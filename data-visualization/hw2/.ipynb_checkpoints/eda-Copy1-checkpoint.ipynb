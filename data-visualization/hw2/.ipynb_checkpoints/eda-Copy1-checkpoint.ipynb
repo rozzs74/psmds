{
 "cells": [
  {
   "cell_type": "markdown",
   "id": "specified-representative",
   "metadata": {},
   "source": [
    "# Exploratory Data Analysis \n",
    "<strong>Dataset</strong> https://archive.ics.uci.edu/ml/datasets/diabetes"
   ]
  },
  {
   "cell_type": "markdown",
   "id": "stock-organization",
   "metadata": {},
   "source": [
    "<h2>Import Libraries</h2>"
   ]
  },
  {
   "cell_type": "code",
   "execution_count": 4,
   "id": "convertible-monitor",
   "metadata": {},
   "outputs": [],
   "source": [
    "import numpy\n",
    "import missingno as msno\n",
    "import seaborn as sn\n",
    "\n",
    "from matplotlib import pyplot\n",
    "\n",
    "from pandas import read_csv\n",
    "from pandas import DataFrame\n",
    "from pandas import Series\n",
    "from pandas import Index\n",
    "from pandas import concat\n",
    "from pandas.plotting import scatter_matrix\n",
    "from pandas import set_option\n",
    "\n",
    "from typing import Tuple\n",
    "from typing import List\n",
    "from typing import Dict\n",
    "from typing import Set\n",
    "\n",
    "from numpy import ndarray"
   ]
  },
  {
   "cell_type": "markdown",
   "id": "concrete-holmes",
   "metadata": {},
   "source": [
    "<h2>Define all functions</h2>"
   ]
  },
  {
   "cell_type": "code",
   "execution_count": 44,
   "id": "civil-version",
   "metadata": {},
   "outputs": [],
   "source": [
    "def get_custom_columns() -> List[str]:\n",
    "    return [\"pregnant\", \"glucose\", \"pressure\", \"triceps\", \"insulin\", \"mass\", \"pedigree\", \"age\", \"diabetes\"]\n",
    "\n",
    "def get_peek(df, n) -> DataFrame:\n",
    "\treturn df.head(n)\n",
    "\n",
    "def get_tail(df, n) -> DataFrame:\n",
    "\treturn df.tail(n)\n",
    "\n",
    "def get_missing_value(df) -> DataFrame:\n",
    "\tmask = df.isnull()\n",
    "\ttotal = mask.sum()\n",
    "\tpercent = 100 * mask.mean()\n",
    "\tmissing_value = concat([total, percent], axis=1, join=\"outer\", keys=[\"count_missing\", \"percentage_missing\"])\n",
    "\tmissing_value.sort_values(by=\"percentage_missing\", ascending=False, inplace=True)\n",
    "\treturn missing_value\n",
    "\n",
    "def get_missing_value_percentage(df):\n",
    "\treturn round(100 * (df.isnull().sum() / len(df)), 2)\n",
    "\n",
    "def get_unique_values_per_column(df, name) -> ndarray:\n",
    "\treturn df[name].unique()\n",
    "\n",
    "def get_unique_values(df) -> Series:\n",
    "\treturn df.nunique()\n",
    "\n",
    "def get_skew(df) -> DataFrame:\n",
    "\treturn df.skew()\n",
    "\n",
    "def get_correlation(df) -> DataFrame:\n",
    "\treturn df.corr()\n",
    "\n",
    "def get_kurtosis(df) -> DataFrame:\n",
    "    return df.kurtosis()\n",
    "\n",
    "def get_descriptive_statistics(df) -> DataFrame:\n",
    "\treturn df.describe()\n",
    "\n",
    "def get_class_distribution(df, name) -> DataFrame:\n",
    "\treturn df.groupby(name).size()\n",
    "\n",
    "def get_dimension(df) -> Tuple:\n",
    "\treturn df.shape\n",
    "\n",
    "def get_data_information(df):\n",
    "\treturn df.info()\n",
    "\n",
    "def get_data_types(df) -> Series:\n",
    "\treturn df.dtypes\n",
    "\n",
    "def get_columns(df) -> Index:\n",
    "\treturn df.columns\n",
    "\n",
    "def get_duplicates_row(df, name, all_rows=True):\n",
    "\tif all_rows:\n",
    "\t\treturn df[df.duplicated()]\n",
    "\telse:\n",
    "\t\treturn df[df.duplicated(name)]\n",
    "\n",
    "def find_duplicates(df) -> bool:\n",
    "\treturn df.duplicated().any()\n",
    "\n",
    "def drop_duplicates(df):\n",
    "\treturn df.drop_duplicates()\n",
    "\n",
    "def show_missing_values(df) -> Series:\n",
    "\treturn df.isnull().sum()\n",
    "\n",
    "def check_missing_values(df) -> bool:\n",
    "\treturn df.isnull().values.any()\n",
    "\n",
    "def clean_data(df, default=True) -> DataFrame:\n",
    "\tif default:\n",
    "\t\treturn impute_missing_value(df)\n",
    "\n",
    "def impute_missing_value(df) -> DataFrame:\n",
    "\treturn df.fillna(0)\n",
    "\n",
    "def read_missing_values(df) -> None:\n",
    "    for i in range(df.shape[1]):\n",
    "        n_miss = df[[i]].isnull().sum()\n",
    "        perc = n_miss / df.shape[0] * 100\n",
    "        print('> %d, Missing: %d (%.1f%%)' % (i, n_miss, perc))\n",
    "\n",
    "def show_density_plots(df) -> None:\n",
    "\tdf.plot(kind=\"density\", subplots=True, layout=(3, 3), sharex=False)\n",
    "\tshow_plot()\n",
    "\n",
    "def show_histogram(df) -> None:\n",
    "\tdf.hist()\n",
    "\tshow_plot()\n",
    "\n",
    "def show_scatter_plot(df) -> None:\n",
    "\tscatter_matrix(df)\n",
    "\tshow_plot()\n",
    "\n",
    "def show_whisker_plots_for_evaluation(results, names, title) -> None:\n",
    "\tfig = pyplot.figure()\n",
    "\tfig.suptitle(title)\n",
    "\tax = fig.add_subplot(111)\n",
    "\tpyplot.boxplot(results)\n",
    "\tax.set_xticklabels(names)\n",
    "\tshow_plot()\n",
    "\n",
    "def show_whisker_plots(df) -> None:\n",
    "\tdf.plot(kind=\"box\", subplots=True, layout=(3, 3), sharex=False, sharey=False)\n",
    "\tshow_plot()\n",
    "\n",
    "def show_correlation_plot(correlations, names):\n",
    "\tfig = pyplot.figure()\n",
    "\tax = fig.add_subplot(111)\n",
    "\tcax = ax.matshow(correlations, vmin=-1, vmax=1)\n",
    "\tfig.colorbar(cax)\n",
    "\tticks = numpy.arange(0, 9, 1)\n",
    "\tax.set_xticks(ticks)\n",
    "\tax.set_yticks(ticks)\n",
    "\tax.set_xticklabels(names) \n",
    "\tax.set_yticklabels(names)\n",
    "\tshow_plot()\n",
    "    \n",
    "def missing_plot(df):\n",
    "\tmask = df.isnull()\n",
    "\tnullable_columns = df.columns[mask.any()].tolist()\n",
    "\tmsno.matrix(df[nullable_columns].sample(500))\n",
    "\tshow_plot()\n",
    "\n",
    "def missing_heat_map(df):\n",
    "\tmask = df.isnull()\n",
    "\tnullable_columns = df.columns[mask.any()].tolist()\n",
    "\tmsno.heatmap(df[nullable_columns], figsize=(18, 18))\n",
    "\tshow_plot()\n",
    "def show_pair_plot(df):\n",
    "\tsn.pairplot(df,hue='Outcome')\n",
    "def show_plot() -> None:\n",
    "\tpyplot.show()"
   ]
  },
  {
   "cell_type": "markdown",
   "id": "accepting-snowboard",
   "metadata": {},
   "source": [
    "<h2><strong>Data Profiling </strong></h2>"
   ]
  },
  {
   "cell_type": "code",
   "execution_count": 6,
   "id": "developed-apache",
   "metadata": {},
   "outputs": [],
   "source": [
    "PATH: str = \"./dataset.csv\"\n",
    "columns: List[str] = get_custom_columns()\n",
    "df: DataFrame = read_csv(PATH, header=None, na_values='?')\n"
   ]
  },
  {
   "cell_type": "code",
   "execution_count": 7,
   "id": "still-repository",
   "metadata": {},
   "outputs": [
    {
     "data": {
      "text/html": [
       "<div>\n",
       "<style scoped>\n",
       "    .dataframe tbody tr th:only-of-type {\n",
       "        vertical-align: middle;\n",
       "    }\n",
       "\n",
       "    .dataframe tbody tr th {\n",
       "        vertical-align: top;\n",
       "    }\n",
       "\n",
       "    .dataframe thead th {\n",
       "        text-align: right;\n",
       "    }\n",
       "</style>\n",
       "<table border=\"1\" class=\"dataframe\">\n",
       "  <thead>\n",
       "    <tr style=\"text-align: right;\">\n",
       "      <th></th>\n",
       "      <th>0</th>\n",
       "      <th>1</th>\n",
       "      <th>2</th>\n",
       "      <th>3</th>\n",
       "      <th>4</th>\n",
       "      <th>5</th>\n",
       "      <th>6</th>\n",
       "      <th>7</th>\n",
       "      <th>8</th>\n",
       "    </tr>\n",
       "  </thead>\n",
       "  <tbody>\n",
       "    <tr>\n",
       "      <th>0</th>\n",
       "      <td>6</td>\n",
       "      <td>148</td>\n",
       "      <td>72.0</td>\n",
       "      <td>35.0</td>\n",
       "      <td>0.0</td>\n",
       "      <td>33.6</td>\n",
       "      <td>0.627</td>\n",
       "      <td>50</td>\n",
       "      <td>1</td>\n",
       "    </tr>\n",
       "    <tr>\n",
       "      <th>1</th>\n",
       "      <td>1</td>\n",
       "      <td>85</td>\n",
       "      <td>66.0</td>\n",
       "      <td>29.0</td>\n",
       "      <td>NaN</td>\n",
       "      <td>26.6</td>\n",
       "      <td>0.351</td>\n",
       "      <td>31</td>\n",
       "      <td>0</td>\n",
       "    </tr>\n",
       "    <tr>\n",
       "      <th>2</th>\n",
       "      <td>8</td>\n",
       "      <td>183</td>\n",
       "      <td>64.0</td>\n",
       "      <td>NaN</td>\n",
       "      <td>NaN</td>\n",
       "      <td>23.3</td>\n",
       "      <td>0.672</td>\n",
       "      <td>32</td>\n",
       "      <td>1</td>\n",
       "    </tr>\n",
       "    <tr>\n",
       "      <th>3</th>\n",
       "      <td>1</td>\n",
       "      <td>89</td>\n",
       "      <td>66.0</td>\n",
       "      <td>23.0</td>\n",
       "      <td>94.0</td>\n",
       "      <td>28.1</td>\n",
       "      <td>0.167</td>\n",
       "      <td>21</td>\n",
       "      <td>0</td>\n",
       "    </tr>\n",
       "    <tr>\n",
       "      <th>4</th>\n",
       "      <td>0</td>\n",
       "      <td>137</td>\n",
       "      <td>40.0</td>\n",
       "      <td>35.0</td>\n",
       "      <td>168.0</td>\n",
       "      <td>43.1</td>\n",
       "      <td>2.288</td>\n",
       "      <td>33</td>\n",
       "      <td>1</td>\n",
       "    </tr>\n",
       "    <tr>\n",
       "      <th>5</th>\n",
       "      <td>5</td>\n",
       "      <td>116</td>\n",
       "      <td>74.0</td>\n",
       "      <td>NaN</td>\n",
       "      <td>NaN</td>\n",
       "      <td>25.6</td>\n",
       "      <td>0.201</td>\n",
       "      <td>30</td>\n",
       "      <td>0</td>\n",
       "    </tr>\n",
       "    <tr>\n",
       "      <th>6</th>\n",
       "      <td>3</td>\n",
       "      <td>78</td>\n",
       "      <td>50.0</td>\n",
       "      <td>32.0</td>\n",
       "      <td>88.0</td>\n",
       "      <td>31.0</td>\n",
       "      <td>0.248</td>\n",
       "      <td>26</td>\n",
       "      <td>1</td>\n",
       "    </tr>\n",
       "    <tr>\n",
       "      <th>7</th>\n",
       "      <td>10</td>\n",
       "      <td>115</td>\n",
       "      <td>NaN</td>\n",
       "      <td>NaN</td>\n",
       "      <td>NaN</td>\n",
       "      <td>35.3</td>\n",
       "      <td>0.134</td>\n",
       "      <td>29</td>\n",
       "      <td>0</td>\n",
       "    </tr>\n",
       "    <tr>\n",
       "      <th>8</th>\n",
       "      <td>2</td>\n",
       "      <td>197</td>\n",
       "      <td>70.0</td>\n",
       "      <td>45.0</td>\n",
       "      <td>543.0</td>\n",
       "      <td>30.5</td>\n",
       "      <td>0.158</td>\n",
       "      <td>53</td>\n",
       "      <td>1</td>\n",
       "    </tr>\n",
       "    <tr>\n",
       "      <th>9</th>\n",
       "      <td>8</td>\n",
       "      <td>125</td>\n",
       "      <td>96.0</td>\n",
       "      <td>NaN</td>\n",
       "      <td>NaN</td>\n",
       "      <td>0.0</td>\n",
       "      <td>0.232</td>\n",
       "      <td>54</td>\n",
       "      <td>1</td>\n",
       "    </tr>\n",
       "  </tbody>\n",
       "</table>\n",
       "</div>"
      ],
      "text/plain": [
       "    0    1     2     3      4     5      6   7  8\n",
       "0   6  148  72.0  35.0    0.0  33.6  0.627  50  1\n",
       "1   1   85  66.0  29.0    NaN  26.6  0.351  31  0\n",
       "2   8  183  64.0   NaN    NaN  23.3  0.672  32  1\n",
       "3   1   89  66.0  23.0   94.0  28.1  0.167  21  0\n",
       "4   0  137  40.0  35.0  168.0  43.1  2.288  33  1\n",
       "5   5  116  74.0   NaN    NaN  25.6  0.201  30  0\n",
       "6   3   78  50.0  32.0   88.0  31.0  0.248  26  1\n",
       "7  10  115   NaN   NaN    NaN  35.3  0.134  29  0\n",
       "8   2  197  70.0  45.0  543.0  30.5  0.158  53  1\n",
       "9   8  125  96.0   NaN    NaN   0.0  0.232  54  1"
      ]
     },
     "execution_count": 7,
     "metadata": {},
     "output_type": "execute_result"
    }
   ],
   "source": [
    "df_head: DataFrame = get_peek(df, 10)\n",
    "df_head"
   ]
  },
  {
   "cell_type": "code",
   "execution_count": 8,
   "id": "worth-commonwealth",
   "metadata": {},
   "outputs": [
    {
     "name": "stdout",
     "output_type": "stream",
     "text": [
      "> 0, Missing: 0 (0.0%)\n",
      "> 1, Missing: 0 (0.0%)\n",
      "> 2, Missing: 18 (2.3%)\n",
      "> 3, Missing: 135 (17.6%)\n",
      "> 4, Missing: 241 (31.4%)\n",
      "> 5, Missing: 0 (0.0%)\n",
      "> 6, Missing: 0 (0.0%)\n",
      "> 7, Missing: 0 (0.0%)\n",
      "> 8, Missing: 0 (0.0%)\n"
     ]
    }
   ],
   "source": [
    "read_missing_values(df)"
   ]
  },
  {
   "cell_type": "markdown",
   "id": "integral-formula",
   "metadata": {},
   "source": [
    "<p> There are <strong>NaN</strong> values from this dataset. </p>"
   ]
  },
  {
   "cell_type": "markdown",
   "id": "other-badge",
   "metadata": {},
   "source": [
    "<p> Now, let's see how many <strong>instances</strong> </p>"
   ]
  },
  {
   "cell_type": "code",
   "execution_count": 9,
   "id": "owned-headline",
   "metadata": {},
   "outputs": [],
   "source": [
    "df_dimension: Tuple = get_dimension(df)\n"
   ]
  },
  {
   "cell_type": "code",
   "execution_count": 10,
   "id": "experienced-aquarium",
   "metadata": {},
   "outputs": [
    {
     "data": {
      "image/png": "[encoded data removed]",
      "text/plain": [
       "<Figure size 432x288 with 1 Axes>"
      ]
     },
     "metadata": {
      "needs_background": "light"
     },
     "output_type": "display_data"
    }
   ],
   "source": [
    "pyplot.barh([\"Features\", \"Instances\"], [df_dimension[1], df_dimension[0]])\n",
    "show_plot()"
   ]
  },
  {
   "cell_type": "markdown",
   "id": "viral-preview",
   "metadata": {},
   "source": [
    "<p>In this case we have <strong>768 instances and 9 features</strong><p>"
   ]
  },
  {
   "cell_type": "markdown",
   "id": "banned-product",
   "metadata": {},
   "source": [
    "<p>Let's check and verify each attributes data types. So that we would know if needed to parse the attributes to integer or float <p>\n",
    " "
   ]
  },
  {
   "cell_type": "code",
   "execution_count": 11,
   "id": "great-captain",
   "metadata": {},
   "outputs": [
    {
     "data": {
      "text/plain": [
       "0      int64\n",
       "1      int64\n",
       "2    float64\n",
       "3    float64\n",
       "4    float64\n",
       "5    float64\n",
       "6    float64\n",
       "7      int64\n",
       "8      int64\n",
       "dtype: object"
      ]
     },
     "execution_count": 11,
     "metadata": {},
     "output_type": "execute_result"
    }
   ],
   "source": [
    "df_data_types: Series = get_data_types(df)\n",
    "df_data_types"
   ]
  },
  {
   "cell_type": "markdown",
   "id": "physical-technician",
   "metadata": {},
   "source": [
    "<p> Running the code generates a summary for each attributes with data types. So far data type transformation is not necessary. We have here <strong> 5 floating value and 4 integers. </strong></p>"
   ]
  },
  {
   "cell_type": "code",
   "execution_count": 12,
   "id": "handy-switch",
   "metadata": {},
   "outputs": [
    {
     "name": "stdout",
     "output_type": "stream",
     "text": [
      "<class 'pandas.core.frame.DataFrame'>\n",
      "RangeIndex: 768 entries, 0 to 767\n",
      "Data columns (total 9 columns):\n",
      " #   Column  Non-Null Count  Dtype  \n",
      "---  ------  --------------  -----  \n",
      " 0   0       768 non-null    int64  \n",
      " 1   1       768 non-null    int64  \n",
      " 2   2       750 non-null    float64\n",
      " 3   3       633 non-null    float64\n",
      " 4   4       527 non-null    float64\n",
      " 5   5       768 non-null    float64\n",
      " 6   6       768 non-null    float64\n",
      " 7   7       768 non-null    int64  \n",
      " 8   8       768 non-null    int64  \n",
      "dtypes: float64(5), int64(4)\n",
      "memory usage: 54.1 KB\n"
     ]
    }
   ],
   "source": [
    "df_info = get_data_information(df)\n",
    "df_info"
   ]
  },
  {
   "cell_type": "markdown",
   "id": "furnished-interference",
   "metadata": {},
   "source": [
    "<p>Dataset information generates a summary for each attributes <strong>constraint</strong> and the size is not huge.</p>"
   ]
  },
  {
   "cell_type": "markdown",
   "id": "empirical-newsletter",
   "metadata": {},
   "source": [
    "<p>Now, let's compute <strong>descriptive statistics</strong> </p>"
   ]
  },
  {
   "cell_type": "code",
   "execution_count": 13,
   "id": "located-argentina",
   "metadata": {},
   "outputs": [
    {
     "data": {
      "text/html": [
       "<div>\n",
       "<style scoped>\n",
       "    .dataframe tbody tr th:only-of-type {\n",
       "        vertical-align: middle;\n",
       "    }\n",
       "\n",
       "    .dataframe tbody tr th {\n",
       "        vertical-align: top;\n",
       "    }\n",
       "\n",
       "    .dataframe thead th {\n",
       "        text-align: right;\n",
       "    }\n",
       "</style>\n",
       "<table border=\"1\" class=\"dataframe\">\n",
       "  <thead>\n",
       "    <tr style=\"text-align: right;\">\n",
       "      <th></th>\n",
       "      <th>0</th>\n",
       "      <th>1</th>\n",
       "      <th>2</th>\n",
       "      <th>3</th>\n",
       "      <th>4</th>\n",
       "      <th>5</th>\n",
       "      <th>6</th>\n",
       "      <th>7</th>\n",
       "      <th>8</th>\n",
       "    </tr>\n",
       "  </thead>\n",
       "  <tbody>\n",
       "    <tr>\n",
       "      <th>count</th>\n",
       "      <td>768.000</td>\n",
       "      <td>768.000</td>\n",
       "      <td>750.000</td>\n",
       "      <td>633.000</td>\n",
       "      <td>527.000</td>\n",
       "      <td>768.000</td>\n",
       "      <td>768.000</td>\n",
       "      <td>768.000</td>\n",
       "      <td>768.000</td>\n",
       "    </tr>\n",
       "    <tr>\n",
       "      <th>mean</th>\n",
       "      <td>3.845</td>\n",
       "      <td>120.895</td>\n",
       "      <td>70.764</td>\n",
       "      <td>24.916</td>\n",
       "      <td>116.292</td>\n",
       "      <td>31.993</td>\n",
       "      <td>0.472</td>\n",
       "      <td>33.241</td>\n",
       "      <td>0.349</td>\n",
       "    </tr>\n",
       "    <tr>\n",
       "      <th>std</th>\n",
       "      <td>3.370</td>\n",
       "      <td>31.973</td>\n",
       "      <td>16.313</td>\n",
       "      <td>14.125</td>\n",
       "      <td>122.941</td>\n",
       "      <td>7.884</td>\n",
       "      <td>0.331</td>\n",
       "      <td>11.760</td>\n",
       "      <td>0.477</td>\n",
       "    </tr>\n",
       "    <tr>\n",
       "      <th>min</th>\n",
       "      <td>0.000</td>\n",
       "      <td>0.000</td>\n",
       "      <td>0.000</td>\n",
       "      <td>0.000</td>\n",
       "      <td>0.000</td>\n",
       "      <td>0.000</td>\n",
       "      <td>0.078</td>\n",
       "      <td>21.000</td>\n",
       "      <td>0.000</td>\n",
       "    </tr>\n",
       "    <tr>\n",
       "      <th>25%</th>\n",
       "      <td>1.000</td>\n",
       "      <td>99.000</td>\n",
       "      <td>64.000</td>\n",
       "      <td>17.000</td>\n",
       "      <td>0.000</td>\n",
       "      <td>27.300</td>\n",
       "      <td>0.244</td>\n",
       "      <td>24.000</td>\n",
       "      <td>0.000</td>\n",
       "    </tr>\n",
       "    <tr>\n",
       "      <th>50%</th>\n",
       "      <td>3.000</td>\n",
       "      <td>117.000</td>\n",
       "      <td>72.000</td>\n",
       "      <td>27.000</td>\n",
       "      <td>92.000</td>\n",
       "      <td>32.000</td>\n",
       "      <td>0.372</td>\n",
       "      <td>29.000</td>\n",
       "      <td>0.000</td>\n",
       "    </tr>\n",
       "    <tr>\n",
       "      <th>75%</th>\n",
       "      <td>6.000</td>\n",
       "      <td>140.250</td>\n",
       "      <td>80.000</td>\n",
       "      <td>35.000</td>\n",
       "      <td>166.500</td>\n",
       "      <td>36.600</td>\n",
       "      <td>0.626</td>\n",
       "      <td>41.000</td>\n",
       "      <td>1.000</td>\n",
       "    </tr>\n",
       "    <tr>\n",
       "      <th>max</th>\n",
       "      <td>17.000</td>\n",
       "      <td>199.000</td>\n",
       "      <td>122.000</td>\n",
       "      <td>99.000</td>\n",
       "      <td>846.000</td>\n",
       "      <td>67.100</td>\n",
       "      <td>2.420</td>\n",
       "      <td>81.000</td>\n",
       "      <td>1.000</td>\n",
       "    </tr>\n",
       "  </tbody>\n",
       "</table>\n",
       "</div>"
      ],
      "text/plain": [
       "             0        1        2        3        4        5        6        7        8\n",
       "count  768.000  768.000  750.000  633.000  527.000  768.000  768.000  768.000  768.000\n",
       "mean     3.845  120.895   70.764   24.916  116.292   31.993    0.472   33.241    0.349\n",
       "std      3.370   31.973   16.313   14.125  122.941    7.884    0.331   11.760    0.477\n",
       "min      0.000    0.000    0.000    0.000    0.000    0.000    0.078   21.000    0.000\n",
       "25%      1.000   99.000   64.000   17.000    0.000   27.300    0.244   24.000    0.000\n",
       "50%      3.000  117.000   72.000   27.000   92.000   32.000    0.372   29.000    0.000\n",
       "75%      6.000  140.250   80.000   35.000  166.500   36.600    0.626   41.000    1.000\n",
       "max     17.000  199.000  122.000   99.000  846.000   67.100    2.420   81.000    1.000"
      ]
     },
     "execution_count": 13,
     "metadata": {},
     "output_type": "execute_result"
    }
   ],
   "source": [
    "df_descriptive_statistics: DataFrame = get_descriptive_statistics(df)\n",
    "set_option(\"display.width\", 100)\n",
    "set_option(\"precision\", 3)\n",
    "df_descriptive_statistics"
   ]
  },
  {
   "cell_type": "markdown",
   "id": "atomic-intention",
   "metadata": {},
   "source": [
    "<p>Interesting, the summary is not sufficient to understand the distribution. I think we need to apply <strong>imputation.</strong></p>\n",
    "<h1>Imputation</h1>"
   ]
  },
  {
   "cell_type": "code",
   "execution_count": 14,
   "id": "developed-netscape",
   "metadata": {},
   "outputs": [
    {
     "data": {
      "text/html": [
       "<div>\n",
       "<style scoped>\n",
       "    .dataframe tbody tr th:only-of-type {\n",
       "        vertical-align: middle;\n",
       "    }\n",
       "\n",
       "    .dataframe tbody tr th {\n",
       "        vertical-align: top;\n",
       "    }\n",
       "\n",
       "    .dataframe thead th {\n",
       "        text-align: right;\n",
       "    }\n",
       "</style>\n",
       "<table border=\"1\" class=\"dataframe\">\n",
       "  <thead>\n",
       "    <tr style=\"text-align: right;\">\n",
       "      <th></th>\n",
       "      <th>count_missing</th>\n",
       "      <th>percentage_missing</th>\n",
       "    </tr>\n",
       "  </thead>\n",
       "  <tbody>\n",
       "    <tr>\n",
       "      <th>4</th>\n",
       "      <td>241</td>\n",
       "      <td>31.380</td>\n",
       "    </tr>\n",
       "    <tr>\n",
       "      <th>3</th>\n",
       "      <td>135</td>\n",
       "      <td>17.578</td>\n",
       "    </tr>\n",
       "    <tr>\n",
       "      <th>2</th>\n",
       "      <td>18</td>\n",
       "      <td>2.344</td>\n",
       "    </tr>\n",
       "    <tr>\n",
       "      <th>0</th>\n",
       "      <td>0</td>\n",
       "      <td>0.000</td>\n",
       "    </tr>\n",
       "    <tr>\n",
       "      <th>1</th>\n",
       "      <td>0</td>\n",
       "      <td>0.000</td>\n",
       "    </tr>\n",
       "    <tr>\n",
       "      <th>5</th>\n",
       "      <td>0</td>\n",
       "      <td>0.000</td>\n",
       "    </tr>\n",
       "    <tr>\n",
       "      <th>6</th>\n",
       "      <td>0</td>\n",
       "      <td>0.000</td>\n",
       "    </tr>\n",
       "    <tr>\n",
       "      <th>7</th>\n",
       "      <td>0</td>\n",
       "      <td>0.000</td>\n",
       "    </tr>\n",
       "    <tr>\n",
       "      <th>8</th>\n",
       "      <td>0</td>\n",
       "      <td>0.000</td>\n",
       "    </tr>\n",
       "  </tbody>\n",
       "</table>\n",
       "</div>"
      ],
      "text/plain": [
       "   count_missing  percentage_missing\n",
       "4            241              31.380\n",
       "3            135              17.578\n",
       "2             18               2.344\n",
       "0              0               0.000\n",
       "1              0               0.000\n",
       "5              0               0.000\n",
       "6              0               0.000\n",
       "7              0               0.000\n",
       "8              0               0.000"
      ]
     },
     "execution_count": 14,
     "metadata": {},
     "output_type": "execute_result"
    }
   ],
   "source": [
    "df_missing_value: DataFrame = get_missing_value(df)\n",
    "df_missing_value"
   ]
  },
  {
   "cell_type": "markdown",
   "id": "chinese-jackson",
   "metadata": {},
   "source": [
    "I will be performing a simple imputation method. All number that is missing will be set to <strong>0.<strong>"
   ]
  },
  {
   "cell_type": "code",
   "execution_count": 15,
   "id": "auburn-couple",
   "metadata": {},
   "outputs": [
    {
     "data": {
      "image/png": "[encoded data removed]",
      "text/plain": [
       "<Figure size 1800x720 with 2 Axes>"
      ]
     },
     "metadata": {
      "needs_background": "light"
     },
     "output_type": "display_data"
    }
   ],
   "source": [
    "missing_plot(df)"
   ]
  },
  {
   "cell_type": "code",
   "execution_count": 16,
   "id": "central-living",
   "metadata": {},
   "outputs": [
    {
     "data": {
      "image/png": "[encoded data removed]",
      "text/plain": [
       "<Figure size 1296x1296 with 2 Axes>"
      ]
     },
     "metadata": {
      "needs_background": "light"
     },
     "output_type": "display_data"
    }
   ],
   "source": [
    "missing_heat_map(df)"
   ]
  },
  {
   "cell_type": "code",
   "execution_count": 17,
   "id": "incredible-scientist",
   "metadata": {},
   "outputs": [],
   "source": [
    "df: DataFrame = impute_missing_value(df)"
   ]
  },
  {
   "cell_type": "code",
   "execution_count": 18,
   "id": "modular-thought",
   "metadata": {},
   "outputs": [
    {
     "data": {
      "text/plain": [
       "['pregnant',\n",
       " 'glucose',\n",
       " 'pressure',\n",
       " 'triceps',\n",
       " 'insulin',\n",
       " 'mass',\n",
       " 'pedigree',\n",
       " 'age',\n",
       " 'diabetes']"
      ]
     },
     "execution_count": 18,
     "metadata": {},
     "output_type": "execute_result"
    }
   ],
   "source": [
    "columns: List[str] = get_custom_columns()\n",
    "columns"
   ]
  },
  {
   "cell_type": "code",
   "execution_count": 19,
   "id": "composite-casino",
   "metadata": {},
   "outputs": [
    {
     "data": {
      "text/html": [
       "<div>\n",
       "<style scoped>\n",
       "    .dataframe tbody tr th:only-of-type {\n",
       "        vertical-align: middle;\n",
       "    }\n",
       "\n",
       "    .dataframe tbody tr th {\n",
       "        vertical-align: top;\n",
       "    }\n",
       "\n",
       "    .dataframe thead th {\n",
       "        text-align: right;\n",
       "    }\n",
       "</style>\n",
       "<table border=\"1\" class=\"dataframe\">\n",
       "  <thead>\n",
       "    <tr style=\"text-align: right;\">\n",
       "      <th></th>\n",
       "      <th>pregnant</th>\n",
       "      <th>glucose</th>\n",
       "      <th>pressure</th>\n",
       "      <th>triceps</th>\n",
       "      <th>insulin</th>\n",
       "      <th>mass</th>\n",
       "      <th>pedigree</th>\n",
       "      <th>age</th>\n",
       "      <th>diabetes</th>\n",
       "    </tr>\n",
       "  </thead>\n",
       "  <tbody>\n",
       "    <tr>\n",
       "      <th>0</th>\n",
       "      <td>6</td>\n",
       "      <td>148</td>\n",
       "      <td>72.0</td>\n",
       "      <td>35.0</td>\n",
       "      <td>0.0</td>\n",
       "      <td>33.6</td>\n",
       "      <td>0.627</td>\n",
       "      <td>50</td>\n",
       "      <td>1</td>\n",
       "    </tr>\n",
       "    <tr>\n",
       "      <th>1</th>\n",
       "      <td>1</td>\n",
       "      <td>85</td>\n",
       "      <td>66.0</td>\n",
       "      <td>29.0</td>\n",
       "      <td>0.0</td>\n",
       "      <td>26.6</td>\n",
       "      <td>0.351</td>\n",
       "      <td>31</td>\n",
       "      <td>0</td>\n",
       "    </tr>\n",
       "    <tr>\n",
       "      <th>2</th>\n",
       "      <td>8</td>\n",
       "      <td>183</td>\n",
       "      <td>64.0</td>\n",
       "      <td>0.0</td>\n",
       "      <td>0.0</td>\n",
       "      <td>23.3</td>\n",
       "      <td>0.672</td>\n",
       "      <td>32</td>\n",
       "      <td>1</td>\n",
       "    </tr>\n",
       "    <tr>\n",
       "      <th>3</th>\n",
       "      <td>1</td>\n",
       "      <td>89</td>\n",
       "      <td>66.0</td>\n",
       "      <td>23.0</td>\n",
       "      <td>94.0</td>\n",
       "      <td>28.1</td>\n",
       "      <td>0.167</td>\n",
       "      <td>21</td>\n",
       "      <td>0</td>\n",
       "    </tr>\n",
       "    <tr>\n",
       "      <th>4</th>\n",
       "      <td>0</td>\n",
       "      <td>137</td>\n",
       "      <td>40.0</td>\n",
       "      <td>35.0</td>\n",
       "      <td>168.0</td>\n",
       "      <td>43.1</td>\n",
       "      <td>2.288</td>\n",
       "      <td>33</td>\n",
       "      <td>1</td>\n",
       "    </tr>\n",
       "    <tr>\n",
       "      <th>5</th>\n",
       "      <td>5</td>\n",
       "      <td>116</td>\n",
       "      <td>74.0</td>\n",
       "      <td>0.0</td>\n",
       "      <td>0.0</td>\n",
       "      <td>25.6</td>\n",
       "      <td>0.201</td>\n",
       "      <td>30</td>\n",
       "      <td>0</td>\n",
       "    </tr>\n",
       "    <tr>\n",
       "      <th>6</th>\n",
       "      <td>3</td>\n",
       "      <td>78</td>\n",
       "      <td>50.0</td>\n",
       "      <td>32.0</td>\n",
       "      <td>88.0</td>\n",
       "      <td>31.0</td>\n",
       "      <td>0.248</td>\n",
       "      <td>26</td>\n",
       "      <td>1</td>\n",
       "    </tr>\n",
       "    <tr>\n",
       "      <th>7</th>\n",
       "      <td>10</td>\n",
       "      <td>115</td>\n",
       "      <td>0.0</td>\n",
       "      <td>0.0</td>\n",
       "      <td>0.0</td>\n",
       "      <td>35.3</td>\n",
       "      <td>0.134</td>\n",
       "      <td>29</td>\n",
       "      <td>0</td>\n",
       "    </tr>\n",
       "    <tr>\n",
       "      <th>8</th>\n",
       "      <td>2</td>\n",
       "      <td>197</td>\n",
       "      <td>70.0</td>\n",
       "      <td>45.0</td>\n",
       "      <td>543.0</td>\n",
       "      <td>30.5</td>\n",
       "      <td>0.158</td>\n",
       "      <td>53</td>\n",
       "      <td>1</td>\n",
       "    </tr>\n",
       "    <tr>\n",
       "      <th>9</th>\n",
       "      <td>8</td>\n",
       "      <td>125</td>\n",
       "      <td>96.0</td>\n",
       "      <td>0.0</td>\n",
       "      <td>0.0</td>\n",
       "      <td>0.0</td>\n",
       "      <td>0.232</td>\n",
       "      <td>54</td>\n",
       "      <td>1</td>\n",
       "    </tr>\n",
       "  </tbody>\n",
       "</table>\n",
       "</div>"
      ],
      "text/plain": [
       "   pregnant  glucose  pressure  triceps  insulin  mass  pedigree  age  diabetes\n",
       "0         6      148      72.0     35.0      0.0  33.6     0.627   50         1\n",
       "1         1       85      66.0     29.0      0.0  26.6     0.351   31         0\n",
       "2         8      183      64.0      0.0      0.0  23.3     0.672   32         1\n",
       "3         1       89      66.0     23.0     94.0  28.1     0.167   21         0\n",
       "4         0      137      40.0     35.0    168.0  43.1     2.288   33         1\n",
       "5         5      116      74.0      0.0      0.0  25.6     0.201   30         0\n",
       "6         3       78      50.0     32.0     88.0  31.0     0.248   26         1\n",
       "7        10      115       0.0      0.0      0.0  35.3     0.134   29         0\n",
       "8         2      197      70.0     45.0    543.0  30.5     0.158   53         1\n",
       "9         8      125      96.0      0.0      0.0   0.0     0.232   54         1"
      ]
     },
     "execution_count": 19,
     "metadata": {},
     "output_type": "execute_result"
    }
   ],
   "source": [
    "df.columns = columns\n",
    "df_head: DataFrame = get_peek(df, 10)\n",
    "df_head"
   ]
  },
  {
   "cell_type": "code",
   "execution_count": 20,
   "id": "compact-idaho",
   "metadata": {},
   "outputs": [
    {
     "data": {
      "text/html": [
       "<div>\n",
       "<style scoped>\n",
       "    .dataframe tbody tr th:only-of-type {\n",
       "        vertical-align: middle;\n",
       "    }\n",
       "\n",
       "    .dataframe tbody tr th {\n",
       "        vertical-align: top;\n",
       "    }\n",
       "\n",
       "    .dataframe thead th {\n",
       "        text-align: right;\n",
       "    }\n",
       "</style>\n",
       "<table border=\"1\" class=\"dataframe\">\n",
       "  <thead>\n",
       "    <tr style=\"text-align: right;\">\n",
       "      <th></th>\n",
       "      <th>pregnant</th>\n",
       "      <th>glucose</th>\n",
       "      <th>pressure</th>\n",
       "      <th>triceps</th>\n",
       "      <th>insulin</th>\n",
       "      <th>mass</th>\n",
       "      <th>pedigree</th>\n",
       "      <th>age</th>\n",
       "      <th>diabetes</th>\n",
       "    </tr>\n",
       "  </thead>\n",
       "  <tbody>\n",
       "    <tr>\n",
       "      <th>count</th>\n",
       "      <td>768.000</td>\n",
       "      <td>768.000</td>\n",
       "      <td>768.000</td>\n",
       "      <td>768.000</td>\n",
       "      <td>768.000</td>\n",
       "      <td>768.000</td>\n",
       "      <td>768.000</td>\n",
       "      <td>768.000</td>\n",
       "      <td>768.000</td>\n",
       "    </tr>\n",
       "    <tr>\n",
       "      <th>mean</th>\n",
       "      <td>3.845</td>\n",
       "      <td>120.895</td>\n",
       "      <td>69.105</td>\n",
       "      <td>20.536</td>\n",
       "      <td>79.799</td>\n",
       "      <td>31.993</td>\n",
       "      <td>0.472</td>\n",
       "      <td>33.241</td>\n",
       "      <td>0.349</td>\n",
       "    </tr>\n",
       "    <tr>\n",
       "      <th>std</th>\n",
       "      <td>3.370</td>\n",
       "      <td>31.973</td>\n",
       "      <td>19.356</td>\n",
       "      <td>15.952</td>\n",
       "      <td>115.244</td>\n",
       "      <td>7.884</td>\n",
       "      <td>0.331</td>\n",
       "      <td>11.760</td>\n",
       "      <td>0.477</td>\n",
       "    </tr>\n",
       "    <tr>\n",
       "      <th>min</th>\n",
       "      <td>0.000</td>\n",
       "      <td>0.000</td>\n",
       "      <td>0.000</td>\n",
       "      <td>0.000</td>\n",
       "      <td>0.000</td>\n",
       "      <td>0.000</td>\n",
       "      <td>0.078</td>\n",
       "      <td>21.000</td>\n",
       "      <td>0.000</td>\n",
       "    </tr>\n",
       "    <tr>\n",
       "      <th>25%</th>\n",
       "      <td>1.000</td>\n",
       "      <td>99.000</td>\n",
       "      <td>62.000</td>\n",
       "      <td>0.000</td>\n",
       "      <td>0.000</td>\n",
       "      <td>27.300</td>\n",
       "      <td>0.244</td>\n",
       "      <td>24.000</td>\n",
       "      <td>0.000</td>\n",
       "    </tr>\n",
       "    <tr>\n",
       "      <th>50%</th>\n",
       "      <td>3.000</td>\n",
       "      <td>117.000</td>\n",
       "      <td>72.000</td>\n",
       "      <td>23.000</td>\n",
       "      <td>30.500</td>\n",
       "      <td>32.000</td>\n",
       "      <td>0.372</td>\n",
       "      <td>29.000</td>\n",
       "      <td>0.000</td>\n",
       "    </tr>\n",
       "    <tr>\n",
       "      <th>75%</th>\n",
       "      <td>6.000</td>\n",
       "      <td>140.250</td>\n",
       "      <td>80.000</td>\n",
       "      <td>32.000</td>\n",
       "      <td>127.250</td>\n",
       "      <td>36.600</td>\n",
       "      <td>0.626</td>\n",
       "      <td>41.000</td>\n",
       "      <td>1.000</td>\n",
       "    </tr>\n",
       "    <tr>\n",
       "      <th>max</th>\n",
       "      <td>17.000</td>\n",
       "      <td>199.000</td>\n",
       "      <td>122.000</td>\n",
       "      <td>99.000</td>\n",
       "      <td>846.000</td>\n",
       "      <td>67.100</td>\n",
       "      <td>2.420</td>\n",
       "      <td>81.000</td>\n",
       "      <td>1.000</td>\n",
       "    </tr>\n",
       "  </tbody>\n",
       "</table>\n",
       "</div>"
      ],
      "text/plain": [
       "       pregnant  glucose  pressure  triceps  insulin     mass  pedigree      age  diabetes\n",
       "count   768.000  768.000   768.000  768.000  768.000  768.000   768.000  768.000   768.000\n",
       "mean      3.845  120.895    69.105   20.536   79.799   31.993     0.472   33.241     0.349\n",
       "std       3.370   31.973    19.356   15.952  115.244    7.884     0.331   11.760     0.477\n",
       "min       0.000    0.000     0.000    0.000    0.000    0.000     0.078   21.000     0.000\n",
       "25%       1.000   99.000    62.000    0.000    0.000   27.300     0.244   24.000     0.000\n",
       "50%       3.000  117.000    72.000   23.000   30.500   32.000     0.372   29.000     0.000\n",
       "75%       6.000  140.250    80.000   32.000  127.250   36.600     0.626   41.000     1.000\n",
       "max      17.000  199.000   122.000   99.000  846.000   67.100     2.420   81.000     1.000"
      ]
     },
     "execution_count": 20,
     "metadata": {},
     "output_type": "execute_result"
    }
   ],
   "source": [
    "df_descriptive_statistics: DataFrame = get_descriptive_statistics(df)\n",
    "set_option(\"display.width\", 100)\n",
    "set_option(\"precision\", 3)\n",
    "df_descriptive_statistics"
   ]
  },
  {
   "cell_type": "markdown",
   "id": "personal-artist",
   "metadata": {},
   "source": [
    "<p>After we impute missing values, we have significant numbers between attributes.</p>"
   ]
  },
  {
   "cell_type": "markdown",
   "id": "hairy-comfort",
   "metadata": {},
   "source": [
    "<h1>Visualization</h1>"
   ]
  },
  {
   "cell_type": "markdown",
   "id": "public-glossary",
   "metadata": {},
   "source": [
    "<h2><strong>Univariate Plots</strong></h2>"
   ]
  },
  {
   "cell_type": "code",
   "execution_count": 37,
   "id": "cloudy-matter",
   "metadata": {},
   "outputs": [
    {
     "data": {
      "image/png": "[encoded data removed]",
      "text/plain": [
       "<Figure size 432x288 with 9 Axes>"
      ]
     },
     "metadata": {
      "needs_background": "light"
     },
     "output_type": "display_data"
    }
   ],
   "source": [
    "show_histogram(df)"
   ]
  },
  {
   "cell_type": "markdown",
   "id": "lucky-mauritius",
   "metadata": {},
   "source": [
    "<p>Interesting distributions, <strong>pregnant, pedigree, age, insulin, triceps</strong> are <strong>exponential distribution.</strong> Then <strong>glucose, pressure, diabetes</strong> are somewhat <strong>Gaussian distribution.</strong> We will see in <strong>density plots</strong> to determine each distribution using <strong>curve</strong></p>"
   ]
  },
  {
   "cell_type": "code",
   "execution_count": 41,
   "id": "broke-specialist",
   "metadata": {},
   "outputs": [
    {
     "data": {
      "image/png": "[encoded data removed]",
      "text/plain": [
       "<Figure size 432x288 with 9 Axes>"
      ]
     },
     "metadata": {
      "needs_background": "light"
     },
     "output_type": "display_data"
    }
   ],
   "source": [
    "show_density_plots(df)"
   ]
  },
  {
   "cell_type": "markdown",
   "id": "obvious-gentleman",
   "metadata": {},
   "source": [
    "<p>Now that we have seen the distribution is not <strong>Gaussian</strong>. Instead <strong>Gamma</strong> distribution. </p>\n",
    "<p>Let's check if there are any <strong>outliers</strong> on each attributes.</p>"
   ]
  },
  {
   "cell_type": "code",
   "execution_count": 42,
   "id": "upper-chancellor",
   "metadata": {},
   "outputs": [
    {
     "data": {
      "image/png": "[encoded data removed]",
      "text/plain": [
       "<Figure size 432x288 with 9 Axes>"
      ]
     },
     "metadata": {
      "needs_background": "light"
     },
     "output_type": "display_data"
    }
   ],
   "source": [
    "show_whisker_plots(df)"
   ]
  },
  {
   "cell_type": "markdown",
   "id": "municipal-shareware",
   "metadata": {},
   "source": [
    "<p>There are outliers from <strong>pedigree, insulin, mass, pregnant, and pressure</strong></p>"
   ]
  },
  {
   "cell_type": "markdown",
   "id": "applicable-palmer",
   "metadata": {},
   "source": [
    "<h2><strong>Multivariate Plots</strong></h2>"
   ]
  },
  {
   "cell_type": "code",
   "execution_count": 27,
   "id": "communist-simon",
   "metadata": {},
   "outputs": [
    {
     "data": {
      "text/html": [
       "<div>\n",
       "<style scoped>\n",
       "    .dataframe tbody tr th:only-of-type {\n",
       "        vertical-align: middle;\n",
       "    }\n",
       "\n",
       "    .dataframe tbody tr th {\n",
       "        vertical-align: top;\n",
       "    }\n",
       "\n",
       "    .dataframe thead th {\n",
       "        text-align: right;\n",
       "    }\n",
       "</style>\n",
       "<table border=\"1\" class=\"dataframe\">\n",
       "  <thead>\n",
       "    <tr style=\"text-align: right;\">\n",
       "      <th></th>\n",
       "      <th>pregnant</th>\n",
       "      <th>glucose</th>\n",
       "      <th>pressure</th>\n",
       "      <th>triceps</th>\n",
       "      <th>insulin</th>\n",
       "      <th>mass</th>\n",
       "      <th>pedigree</th>\n",
       "      <th>age</th>\n",
       "      <th>diabetes</th>\n",
       "    </tr>\n",
       "  </thead>\n",
       "  <tbody>\n",
       "    <tr>\n",
       "      <th>pregnant</th>\n",
       "      <td>1.000</td>\n",
       "      <td>0.129</td>\n",
       "      <td>0.141</td>\n",
       "      <td>-0.082</td>\n",
       "      <td>-0.074</td>\n",
       "      <td>0.018</td>\n",
       "      <td>-0.034</td>\n",
       "      <td>0.544</td>\n",
       "      <td>0.222</td>\n",
       "    </tr>\n",
       "    <tr>\n",
       "      <th>glucose</th>\n",
       "      <td>0.129</td>\n",
       "      <td>1.000</td>\n",
       "      <td>0.153</td>\n",
       "      <td>0.057</td>\n",
       "      <td>0.331</td>\n",
       "      <td>0.221</td>\n",
       "      <td>0.137</td>\n",
       "      <td>0.264</td>\n",
       "      <td>0.467</td>\n",
       "    </tr>\n",
       "    <tr>\n",
       "      <th>pressure</th>\n",
       "      <td>0.141</td>\n",
       "      <td>0.153</td>\n",
       "      <td>1.000</td>\n",
       "      <td>0.207</td>\n",
       "      <td>0.089</td>\n",
       "      <td>0.282</td>\n",
       "      <td>0.041</td>\n",
       "      <td>0.240</td>\n",
       "      <td>0.065</td>\n",
       "    </tr>\n",
       "    <tr>\n",
       "      <th>triceps</th>\n",
       "      <td>-0.082</td>\n",
       "      <td>0.057</td>\n",
       "      <td>0.207</td>\n",
       "      <td>1.000</td>\n",
       "      <td>0.437</td>\n",
       "      <td>0.393</td>\n",
       "      <td>0.184</td>\n",
       "      <td>-0.114</td>\n",
       "      <td>0.075</td>\n",
       "    </tr>\n",
       "    <tr>\n",
       "      <th>insulin</th>\n",
       "      <td>-0.074</td>\n",
       "      <td>0.331</td>\n",
       "      <td>0.089</td>\n",
       "      <td>0.437</td>\n",
       "      <td>1.000</td>\n",
       "      <td>0.198</td>\n",
       "      <td>0.185</td>\n",
       "      <td>-0.042</td>\n",
       "      <td>0.131</td>\n",
       "    </tr>\n",
       "    <tr>\n",
       "      <th>mass</th>\n",
       "      <td>0.018</td>\n",
       "      <td>0.221</td>\n",
       "      <td>0.282</td>\n",
       "      <td>0.393</td>\n",
       "      <td>0.198</td>\n",
       "      <td>1.000</td>\n",
       "      <td>0.141</td>\n",
       "      <td>0.036</td>\n",
       "      <td>0.293</td>\n",
       "    </tr>\n",
       "    <tr>\n",
       "      <th>pedigree</th>\n",
       "      <td>-0.034</td>\n",
       "      <td>0.137</td>\n",
       "      <td>0.041</td>\n",
       "      <td>0.184</td>\n",
       "      <td>0.185</td>\n",
       "      <td>0.141</td>\n",
       "      <td>1.000</td>\n",
       "      <td>0.034</td>\n",
       "      <td>0.174</td>\n",
       "    </tr>\n",
       "    <tr>\n",
       "      <th>age</th>\n",
       "      <td>0.544</td>\n",
       "      <td>0.264</td>\n",
       "      <td>0.240</td>\n",
       "      <td>-0.114</td>\n",
       "      <td>-0.042</td>\n",
       "      <td>0.036</td>\n",
       "      <td>0.034</td>\n",
       "      <td>1.000</td>\n",
       "      <td>0.238</td>\n",
       "    </tr>\n",
       "    <tr>\n",
       "      <th>diabetes</th>\n",
       "      <td>0.222</td>\n",
       "      <td>0.467</td>\n",
       "      <td>0.065</td>\n",
       "      <td>0.075</td>\n",
       "      <td>0.131</td>\n",
       "      <td>0.293</td>\n",
       "      <td>0.174</td>\n",
       "      <td>0.238</td>\n",
       "      <td>1.000</td>\n",
       "    </tr>\n",
       "  </tbody>\n",
       "</table>\n",
       "</div>"
      ],
      "text/plain": [
       "          pregnant  glucose  pressure  triceps  insulin   mass  pedigree    age  diabetes\n",
       "pregnant     1.000    0.129     0.141   -0.082   -0.074  0.018    -0.034  0.544     0.222\n",
       "glucose      0.129    1.000     0.153    0.057    0.331  0.221     0.137  0.264     0.467\n",
       "pressure     0.141    0.153     1.000    0.207    0.089  0.282     0.041  0.240     0.065\n",
       "triceps     -0.082    0.057     0.207    1.000    0.437  0.393     0.184 -0.114     0.075\n",
       "insulin     -0.074    0.331     0.089    0.437    1.000  0.198     0.185 -0.042     0.131\n",
       "mass         0.018    0.221     0.282    0.393    0.198  1.000     0.141  0.036     0.293\n",
       "pedigree    -0.034    0.137     0.041    0.184    0.185  0.141     1.000  0.034     0.174\n",
       "age          0.544    0.264     0.240   -0.114   -0.042  0.036     0.034  1.000     0.238\n",
       "diabetes     0.222    0.467     0.065    0.075    0.131  0.293     0.174  0.238     1.000"
      ]
     },
     "execution_count": 27,
     "metadata": {},
     "output_type": "execute_result"
    }
   ],
   "source": [
    "df_correlation: DataFrame = get_correlation(df)\n",
    "df_correlation"
   ]
  },
  {
   "cell_type": "markdown",
   "id": "little-pixel",
   "metadata": {},
   "source": [
    "<p><strong>Correlation</strong> check. How do we know if they are correlated? Base on the values if <strong> 1 it means positive correlation, 0 means no correlation, -1 negtative correlation.</strong>In this case no correlation at all. </p> "
   ]
  },
  {
   "cell_type": "code",
   "execution_count": 28,
   "id": "dried-uncertainty",
   "metadata": {},
   "outputs": [
    {
     "data": {
      "image/png": "[encoded data removed]",
      "text/plain": [
       "<Figure size 432x288 with 2 Axes>"
      ]
     },
     "metadata": {
      "needs_background": "light"
     },
     "output_type": "display_data"
    }
   ],
   "source": [
    "show_correlation_plot(df_correlation, columns)"
   ]
  },
  {
   "cell_type": "code",
   "execution_count": 31,
   "id": "radical-nature",
   "metadata": {},
   "outputs": [
    {
     "data": {
      "text/plain": [
       "pregnant    0.902\n",
       "glucose     0.174\n",
       "pressure   -1.844\n",
       "triceps     0.109\n",
       "insulin     2.272\n",
       "mass       -0.429\n",
       "pedigree    1.920\n",
       "age         1.130\n",
       "diabetes    0.635\n",
       "dtype: float64"
      ]
     },
     "execution_count": 31,
     "metadata": {},
     "output_type": "execute_result"
    }
   ],
   "source": [
    "df_skew: DataFrame = get_skew(df)\n",
    "df_skew"
   ]
  },
  {
   "cell_type": "markdown",
   "id": "vertical-academy",
   "metadata": {},
   "source": [
    "<p>Skew results </p>"
   ]
  },
  {
   "cell_type": "code",
   "execution_count": 30,
   "id": "major-terminology",
   "metadata": {},
   "outputs": [
    {
     "data": {
      "text/plain": [
       "pregnant    0.159\n",
       "glucose     0.641\n",
       "pressure    5.180\n",
       "triceps    -0.520\n",
       "insulin     7.214\n",
       "mass        3.290\n",
       "pedigree    5.595\n",
       "age         0.643\n",
       "diabetes   -1.601\n",
       "dtype: float64"
      ]
     },
     "execution_count": 30,
     "metadata": {},
     "output_type": "execute_result"
    }
   ],
   "source": [
    "df_kurtosis: DataFrame = get_kurtosis(df)\n",
    "df_kurtosis"
   ]
  },
  {
   "cell_type": "markdown",
   "id": "determined-avatar",
   "metadata": {},
   "source": [
    "<p>Let's see if how attributes pair change to one another</p>"
   ]
  },
  {
   "cell_type": "code",
   "execution_count": 32,
   "id": "alone-nurse",
   "metadata": {},
   "outputs": [
    {
     "data": {
      "image/png": "[encoded data removed]",
      "text/plain": [
       "<Figure size 432x288 with 81 Axes>"
      ]
     },
     "metadata": {
      "needs_background": "light"
     },
     "output_type": "display_data"
    }
   ],
   "source": [
    "show_scatter_plot(df)"
   ]
  },
  {
   "cell_type": "markdown",
   "id": "polar-destruction",
   "metadata": {},
   "source": [
    "<h2><strong>Target Variables </strong></h2>\n",
    "<p>Let's see and verify what <strong>type</strong> of <strong>classification</strong> problem is this.</p>\n",
    "\n"
   ]
  },
  {
   "cell_type": "code",
   "execution_count": 45,
   "id": "pleasant-blair",
   "metadata": {},
   "outputs": [
    {
     "data": {
      "text/plain": [
       "diabetes\n",
       "0    500\n",
       "1    268\n",
       "dtype: int64"
      ]
     },
     "execution_count": 45,
     "metadata": {},
     "output_type": "execute_result"
    }
   ],
   "source": [
    "df_class_distribution: DataFrame = get_class_distribution(df, \"diabetes\")\n",
    "df_class_distribution"
   ]
  },
  {
   "cell_type": "markdown",
   "id": "strong-technician",
   "metadata": {},
   "source": [
    "<p>In our case this is <strong> binary classification</strong> problem because there are only <strong> two possobile outcomes 0 means negative in diabetes whilst 1 means positive in diabetes.</strong></p>"
   ]
  },
  {
   "cell_type": "code",
   "execution_count": 47,
   "id": "loved-error",
   "metadata": {},
   "outputs": [
    {
     "data": {
      "image/png": "[encoded data removed]",
      "text/plain": [
       "<Figure size 432x288 with 1 Axes>"
      ]
     },
     "metadata": {
      "needs_background": "light"
     },
     "output_type": "display_data"
    }
   ],
   "source": [
    "df[\"diabetes\"].value_counts().plot(kind=\"bar\")\n",
    "pyplot.title(\"Target Variable (0=Negative Diabets, 1= Positive Diabetes)\")\n",
    "show_plot()"
   ]
  },
  {
   "cell_type": "markdown",
   "id": "sensitive-river",
   "metadata": {},
   "source": [
    "<p>This is worth investigating how categorical values being distributed. In our case <strong>positive diabetes are just 290</strong> while <strong>negative diabetes 490</strong></p>"
   ]
  },
  {
   "cell_type": "code",
   "execution_count": 49,
   "id": "pregnant-sierra",
   "metadata": {},
   "outputs": [
    {
     "data": {
      "image/png": "[encoded data removed]",
      "text/plain": [
       "<Figure size 432x288 with 1 Axes>"
      ]
     },
     "metadata": {},
     "output_type": "display_data"
    }
   ],
   "source": [
    "positive = df_class_distribution.iloc[1]\n",
    "negative = df_class_distribution.iloc[0]\n",
    "total = positive + negative\n",
    "pyplot.title(\"Diabetes class distribution\")\n",
    "pyplot.pie([positive, negative], labels=[f\"Positive ({positive/total * 100:.2f}%)\", f\"Negative ({negative/total * 100:.2f}%)\"])\n",
    "show_plot()"
   ]
  },
  {
   "cell_type": "markdown",
   "id": "popular-bikini",
   "metadata": {},
   "source": [
    "<p>About <strong>70%</strong> of our dataset are being classified as <strong>negative in diabetes</strong> then remaining <strong>30%</strong> are <strong>positive in diabetes.</strong></p>"
   ]
  },
  {
   "cell_type": "code",
   "execution_count": null,
   "id": "biblical-medicaid",
   "metadata": {},
   "outputs": [],
   "source": []
  }
 ],
 "metadata": {
  "kernelspec": {
   "display_name": "Python 3",
   "language": "python",
   "name": "python3"
  },
  "language_info": {
   "codemirror_mode": {
    "name": "ipython",
    "version": 3
   },
   "file_extension": ".py",
   "mimetype": "text/x-python",
   "name": "python",
   "nbconvert_exporter": "python",
   "pygments_lexer": "ipython3",
   "version": "3.8.6"
  }
 },
 "nbformat": 4,
 "nbformat_minor": 5
}
