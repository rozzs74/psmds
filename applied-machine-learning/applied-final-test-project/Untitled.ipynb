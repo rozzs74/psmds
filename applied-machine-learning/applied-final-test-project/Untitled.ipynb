{
 "cells": [
  {
   "cell_type": "markdown",
   "metadata": {},
   "source": [
    "<h1>Problem Definition</h1>"
   ]
  },
  {
   "cell_type": "markdown",
   "metadata": {},
   "source": [
    "<p>The focus of this project will be <strong>Sonar Mines vs Rocks dataset.</strong> the problem is to predict metal or rock objects from sonar.</p>\n",
    "\n",
    "<p>Note that the pattern from each instances are set of <strong>60 numbers</strong> in the range of <strong>0.0 </strong> to <strong>1.0</strong> and represents the energy within a particular <strong>frequency band</strong> which integrated with a certain period of time.</p>\n",
    "\n",
    "<p>Labels are associated with the letter <strong>R</strong> if the object is a rock and then <strong>M</strong> if it is a mine or metal cylinder.</p>"
   ]
  },
  {
   "cell_type": "markdown",
   "metadata": {},
   "source": [
    "<h1>Load Libraries</h1>\n",
    "<p>Let's proceed by loading the all of the required libraries for this problem.</p>"
   ]
  },
  {
   "cell_type": "code",
   "execution_count": 2,
   "metadata": {},
   "outputs": [],
   "source": [
    "import seaborn as sn\n",
    "import missingno as msno\n",
    "\n",
    "from matplotlib import pyplot\n",
    "\n",
    "from pandas import read_csv\n",
    "from pandas import concat\n",
    "from pandas.plotting import scatter_matrix\n",
    "from pandas import DataFrame\n",
    "from pandas import Series\n",
    "from pandas import Index\n",
    "from pandas import set_option\n",
    "\n",
    "from sklearn import tree\n",
    "from sklearn.preprocessing import StandardScaler\n",
    "from sklearn.model_selection import train_test_split\n",
    "from sklearn.model_selection import KFold\n",
    "from sklearn.model_selection import cross_val_score\n",
    "from sklearn.model_selection import GridSearchCV\n",
    "from sklearn.metrics import classification_report\n",
    "from sklearn.metrics import confusion_matrix\n",
    "from sklearn.metrics import accuracy_score\n",
    "from sklearn.pipeline import Pipeline\n",
    "from sklearn.linear_model import LogisticRegression\n",
    "from sklearn.tree import DecisionTreeClassifier\n",
    "from sklearn.discriminant_analysis import LinearDiscriminantAnalysis\n",
    "from sklearn.naive_bayes import GaussianNB\n",
    "from sklearn.svm import SVC\n",
    "from sklearn.ensemble import AdaBoostClassifier\n",
    "from sklearn.ensemble import GradientBoostingClassifier\n",
    "from sklearn.ensemble import RandomForestClassifier\n",
    "from sklearn.ensemble import ExtraTreesClassifier\n",
    "\n",
    "from numpy import ndarray\n",
    "from numpy import arange\n",
    "\n",
    "from typing import Tuple\n",
    "from typing import List\n",
    "from typing import Dict\n",
    "from typing import Set"
   ]
  },
  {
   "cell_type": "code",
   "execution_count": null,
   "metadata": {},
   "outputs": [],
   "source": []
  }
 ],
 "metadata": {
  "kernelspec": {
   "display_name": "Python 3",
   "language": "python",
   "name": "python3"
  },
  "language_info": {
   "codemirror_mode": {
    "name": "ipython",
    "version": 3
   },
   "file_extension": ".py",
   "mimetype": "text/x-python",
   "name": "python",
   "nbconvert_exporter": "python",
   "pygments_lexer": "ipython3",
   "version": "3.8.6"
  }
 },
 "nbformat": 4,
 "nbformat_minor": 4
}
