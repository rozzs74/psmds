{
 "cells": [
  {
   "cell_type": "code",
   "execution_count": 5,
   "metadata": {},
   "outputs": [],
   "source": [
    "import missingno as msno\n",
    "import json\n",
    "import numpy\n",
    "import seaborn as sns\n",
    "\n",
    "from pandas import read_csv\n",
    "from pandas import set_option\n",
    "from pandas import concat\n",
    "from pandas.plotting import scatter_matrix\n",
    "from collections import Counter\n",
    "from matplotlib import pyplot\n",
    "from sklearn.model_selection import train_test_split\n",
    "from sklearn.linear_model import LinearRegression\n",
    "from sklearn.metrics import mean_squared_error, r2_score"
   ]
  },
  {
   "cell_type": "code",
   "execution_count": 6,
   "metadata": {},
   "outputs": [],
   "source": [
    "def show_regression_formula(intercept, coefficent):\n",
    "\tprint('y = ' + str('%.2f' % intercept) + ' + ' + str('%.2f' % coefficent[0]) + '*X1 ' + str('%.2f' % coefficent[1]) + '*X2 ' + str('%.2f' % coefficent[2]) + '*X3 + ' + str('%.2f' % coefficent[3]) + '*X4 + ' + str('%.2f' %coefficent[4]) + '*X5')\n",
    "\n",
    "def show_summary(x, y, model, title):\n",
    "\tprint(f\"{title} {format(model.score(x, y) * 100, '.2f')}%\")\n",
    "\n",
    "def train_model(x, y):\n",
    "\tlinear_regression = LinearRegression()\n",
    "\tlinear_regression.fit(x, y)\n",
    "\treturn linear_regression\n",
    "\n",
    "def predict(model, x):\n",
    "\treturn model.predict(x)\n",
    "\n",
    "def get_summary(y_train, y_pred):\n",
    "\tpass\n",
    "\n",
    "def get_training_variables(df, feature):\n",
    "\treturn {\"y\": df[feature], \"X\": df.iloc[:, 2: 7]}\n",
    "\n",
    "def get_columns():\n",
    "    return [\"Type\", \"Weight\", \"Standard_Length\", \"Fork_Length\", \"Total_Length\", \"Height\", \"Width\"]\n",
    "\n",
    "def get_variable_description():\n",
    "\treturn {\"Type\": \"The species of fish.\", \"Weight\": \"Weight of fish in grams.\", \"Standard_Length\": \"Standard length of fish in cm.\", \"Fork_Length\": \"Fork length of fish in cm.\", \"Total_Length\": \"Total length of fish in cm.\", \"Height\": \"Body dept (height) of fish in cm.\", \"Width\": \"Body Thickness (width) of fish in cm.\"}\n",
    "\n",
    "def get_peek(df, n):\n",
    "\treturn df.head(n)\n",
    "\n",
    "def get_tail(df, n):\n",
    "\treturn df.tail(n)\n",
    "\n",
    "def get_dimension(df):\n",
    "\treturn df.shape\n",
    "\n",
    "def get_data_types(df):\n",
    "\treturn df.dtypes\n",
    "\n",
    "def get_data_information(df):\n",
    "\treturn df.info()\n",
    "\n",
    "def get_descriptive_statistics(df, with_option=True):\n",
    "\tif with_option:\n",
    "\t\trun_option()\n",
    "\treturn df.describe()\n",
    "\n",
    "def run_option():\n",
    "\tset_option(\"display.width\", 100)\n",
    "\tset_option(\"precision\", 2)\n",
    "\n",
    "def get_correlation(df):\n",
    "\treturn df.corr()\n",
    "\n",
    "def get_skew(df):\n",
    "\treturn df.skew()\n",
    "\n",
    "def get_kurtosis(df):\n",
    "    return df.kurtosis()\n",
    "\n",
    "def get_outliers(df,features):\n",
    "\toutlier_indices = []\n",
    "\tfirst_percentile = 25\n",
    "\tlast_percentile = 75\n",
    "\n",
    "\tfor columns in features:\n",
    "\t\tq1 = numpy.percentile(df[columns], first_percentile)\n",
    "\t\tq3 = numpy.percentile(df[columns], last_percentile)\n",
    "\t\tq_diff = q3 - q1\n",
    "\t\toutlier_stepper = q_diff * 1.5\n",
    "\t\toutliers = df[(df[columns] < q1 - outlier_stepper) | (df[columns] > q3 + outlier_stepper)].index\n",
    "\t\toutlier_indices.extend(outliers)\n",
    "\n",
    "\toutlier_indices = Counter(outlier_indices)\n",
    "\tmultiple_outliers = list(k for k, i in outlier_indices.items() if i > 2)\n",
    "\treturn multiple_outliers\n",
    "\n",
    "def get_missing_value(df):\n",
    "\tmask = df.isnull()\n",
    "\ttotal = mask.sum()\n",
    "\tpercent = 100 * mask.mean()\n",
    "\tmissing_value = concat([total, percent], axis=1, join=\"outer\", keys=[\"count_missing\", \"percentage_missing\"])\n",
    "\tmissing_value.sort_values(by=\"percentage_missing\", ascending=False, inplace=True)\n",
    "\treturn missing_value\n",
    "\n",
    "def get_missing_value_percentage(df):\n",
    "\treturn round(100 * (df.isnull().sum() / len(df)), 2)\n",
    "\n",
    "def check_duplicates(df):\n",
    "\tstash = df.copy()\n",
    "\tif stash.shape == df.shape:\n",
    "\t\treturn False\n",
    "\telse:\n",
    "\t\treturn True\n",
    "\n",
    "def check_missing_values(df):\n",
    "\tis_missing = df.isnull().values.any()\n",
    "\tprint(str(\"Is there any NaN values in the dataset?\"), is_missing)\n",
    "\treturn is_missing\n",
    "\n",
    "def drop_items(df, to_drop):\n",
    "\tstash = df.drop(to_drop)\n",
    "\treturn stash\n",
    "\n",
    "def impute_missing_value(df, num):\n",
    "\treturn df.fillna(num)\n",
    "\n",
    "# Missingness\n",
    "def show_missing_plot(df):\n",
    "\tnull = df.isnull()\n",
    "\tnull_columns = df.columns[null.any()].tolist()\n",
    "\tmsno.heatmap(df[null_columns], figsize=(18, 18))\n",
    "\tshow_plot()\n",
    "\n",
    "def show_missing_heat_map(df):\n",
    "\tmask = df.isnull()\n",
    "\tnullable_columns = df.columns[mask.any()].tolist()\n",
    "\tmsno.heatmap(df[nullable_columns], figsize=(18, 18))\n",
    "\tshow_plot()\n",
    "\n",
    "# Distribution\n",
    "def show_density_plots(df):\n",
    "\tdf.plot(kind=\"density\", subplots=True, layout=(3, 3), sharex=False)\n",
    "\tshow_plot()\n",
    "\n",
    "def show_histogram(df):\n",
    "\tdf.hist()\n",
    "\tshow_plot()\n",
    "\n",
    "def show_scatter_plot(df):\n",
    "\tscatter_matrix(df)\n",
    "\tshow_plot()\n",
    "\n",
    "def show_whisker_plots(df):\n",
    "\tdf.plot(kind=\"box\", subplots=True, layout=(3, 3), sharex=False, sharey=False)\n",
    "\tshow_plot()\n",
    "\n",
    "def show_bar_plot(df, title):\n",
    "\tdf.plot(kind=\"bar\", title=title)\n",
    "\tshow_plot()\n",
    "\n",
    "def show_plot():\n",
    "\tpyplot.show()\n",
    "\n",
    "def show_correlation_plot(correlations, names):\n",
    "\tfig = pyplot.figure()\n",
    "\tax = fig.add_subplot(111)\n",
    "\tcax = ax.matshow(correlations, vmin=-1, vmax=1)\n",
    "\tfig.colorbar(cax)\n",
    "\tticks = numpy.arange(0, 6, 1)\n",
    "\tax.set_xticks(ticks)\n",
    "\tax.set_yticks(ticks)\n",
    "\tax.set_xticklabels(names) \n",
    "\tax.set_yticklabels(names)\n",
    "\tshow_plot()"
   ]
  },
  {
   "cell_type": "code",
   "execution_count": 7,
   "metadata": {},
   "outputs": [],
   "source": [
    "PATH = \"./fish.csv\""
   ]
  },
  {
   "cell_type": "code",
   "execution_count": 8,
   "metadata": {},
   "outputs": [],
   "source": [
    "#Exploratory Data Analysis (Data profiling, Imputation strategies and Visualization)"
   ]
  },
  {
   "cell_type": "code",
   "execution_count": 9,
   "metadata": {},
   "outputs": [],
   "source": [
    "#Data Profiling\n",
    "\n",
    "columns = get_columns()"
   ]
  },
  {
   "cell_type": "code",
   "execution_count": 10,
   "metadata": {},
   "outputs": [
    {
     "data": {
      "text/plain": [
       "['Type',\n",
       " 'Weight',\n",
       " 'Standard_Length',\n",
       " 'Fork_Length',\n",
       " 'Total_Length',\n",
       " 'Height',\n",
       " 'Width']"
      ]
     },
     "execution_count": 10,
     "metadata": {},
     "output_type": "execute_result"
    }
   ],
   "source": [
    "columns"
   ]
  },
  {
   "cell_type": "code",
   "execution_count": 48,
   "metadata": {},
   "outputs": [
    {
     "data": {
      "text/html": [
       "<div>\n",
       "<style scoped>\n",
       "    .dataframe tbody tr th:only-of-type {\n",
       "        vertical-align: middle;\n",
       "    }\n",
       "\n",
       "    .dataframe tbody tr th {\n",
       "        vertical-align: top;\n",
       "    }\n",
       "\n",
       "    .dataframe thead th {\n",
       "        text-align: right;\n",
       "    }\n",
       "</style>\n",
       "<table border=\"1\" class=\"dataframe\">\n",
       "  <thead>\n",
       "    <tr style=\"text-align: right;\">\n",
       "      <th></th>\n",
       "      <th>Type</th>\n",
       "      <th>Weight</th>\n",
       "      <th>Standard_Length</th>\n",
       "      <th>Fork_Length</th>\n",
       "      <th>Total_Length</th>\n",
       "      <th>Height</th>\n",
       "      <th>Width</th>\n",
       "    </tr>\n",
       "  </thead>\n",
       "  <tbody>\n",
       "    <tr>\n",
       "      <th>157</th>\n",
       "      <td>Smelt</td>\n",
       "      <td>19.7</td>\n",
       "      <td>13.2</td>\n",
       "      <td>14.3</td>\n",
       "      <td>15.2</td>\n",
       "      <td>2.87</td>\n",
       "      <td>2.07</td>\n",
       "    </tr>\n",
       "    <tr>\n",
       "      <th>158</th>\n",
       "      <td>Smelt</td>\n",
       "      <td>19.9</td>\n",
       "      <td>13.8</td>\n",
       "      <td>15.0</td>\n",
       "      <td>16.2</td>\n",
       "      <td>2.93</td>\n",
       "      <td>1.88</td>\n",
       "    </tr>\n",
       "  </tbody>\n",
       "</table>\n",
       "</div>"
      ],
      "text/plain": [
       "      Type  Weight  Standard_Length  Fork_Length  Total_Length  Height  Width\n",
       "157  Smelt    19.7             13.2         14.3          15.2    2.87   2.07\n",
       "158  Smelt    19.9             13.8         15.0          16.2    2.93   1.88"
      ]
     },
     "execution_count": 48,
     "metadata": {},
     "output_type": "execute_result"
    }
   ],
   "source": [
    "df = read_csv(PATH, names=columns)\n",
    "df_head = get_peek(df, 5)\n",
    "df_tail = get_tail(df, 2)\n",
    "df_head\n",
    "df_tail"
   ]
  },
  {
   "cell_type": "code",
   "execution_count": 49,
   "metadata": {},
   "outputs": [
    {
     "data": {
      "text/html": [
       "<div>\n",
       "<style scoped>\n",
       "    .dataframe tbody tr th:only-of-type {\n",
       "        vertical-align: middle;\n",
       "    }\n",
       "\n",
       "    .dataframe tbody tr th {\n",
       "        vertical-align: top;\n",
       "    }\n",
       "\n",
       "    .dataframe thead th {\n",
       "        text-align: right;\n",
       "    }\n",
       "</style>\n",
       "<table border=\"1\" class=\"dataframe\">\n",
       "  <thead>\n",
       "    <tr style=\"text-align: right;\">\n",
       "      <th></th>\n",
       "      <th>Type</th>\n",
       "      <th>Weight</th>\n",
       "      <th>Standard_Length</th>\n",
       "      <th>Fork_Length</th>\n",
       "      <th>Total_Length</th>\n",
       "      <th>Height</th>\n",
       "      <th>Width</th>\n",
       "    </tr>\n",
       "  </thead>\n",
       "  <tbody>\n",
       "    <tr>\n",
       "      <th>0</th>\n",
       "      <td>Bream</td>\n",
       "      <td>242.0</td>\n",
       "      <td>23.2</td>\n",
       "      <td>25.4</td>\n",
       "      <td>30.0</td>\n",
       "      <td>11.52</td>\n",
       "      <td>4.02</td>\n",
       "    </tr>\n",
       "    <tr>\n",
       "      <th>1</th>\n",
       "      <td>Bream</td>\n",
       "      <td>290.0</td>\n",
       "      <td>24.0</td>\n",
       "      <td>26.3</td>\n",
       "      <td>31.2</td>\n",
       "      <td>12.48</td>\n",
       "      <td>4.31</td>\n",
       "    </tr>\n",
       "    <tr>\n",
       "      <th>2</th>\n",
       "      <td>Bream</td>\n",
       "      <td>340.0</td>\n",
       "      <td>23.9</td>\n",
       "      <td>26.5</td>\n",
       "      <td>31.1</td>\n",
       "      <td>12.38</td>\n",
       "      <td>4.70</td>\n",
       "    </tr>\n",
       "    <tr>\n",
       "      <th>3</th>\n",
       "      <td>Bream</td>\n",
       "      <td>363.0</td>\n",
       "      <td>26.3</td>\n",
       "      <td>29.0</td>\n",
       "      <td>33.5</td>\n",
       "      <td>12.73</td>\n",
       "      <td>4.46</td>\n",
       "    </tr>\n",
       "    <tr>\n",
       "      <th>4</th>\n",
       "      <td>Bream</td>\n",
       "      <td>430.0</td>\n",
       "      <td>26.5</td>\n",
       "      <td>29.0</td>\n",
       "      <td>34.0</td>\n",
       "      <td>12.44</td>\n",
       "      <td>5.13</td>\n",
       "    </tr>\n",
       "  </tbody>\n",
       "</table>\n",
       "</div>"
      ],
      "text/plain": [
       "    Type  Weight  Standard_Length  Fork_Length  Total_Length  Height  Width\n",
       "0  Bream   242.0             23.2         25.4          30.0   11.52   4.02\n",
       "1  Bream   290.0             24.0         26.3          31.2   12.48   4.31\n",
       "2  Bream   340.0             23.9         26.5          31.1   12.38   4.70\n",
       "3  Bream   363.0             26.3         29.0          33.5   12.73   4.46\n",
       "4  Bream   430.0             26.5         29.0          34.0   12.44   5.13"
      ]
     },
     "execution_count": 49,
     "metadata": {},
     "output_type": "execute_result"
    }
   ],
   "source": [
    "df_head"
   ]
  },
  {
   "cell_type": "code",
   "execution_count": 50,
   "metadata": {},
   "outputs": [
    {
     "name": "stdout",
     "output_type": "stream",
     "text": [
      "{\n",
      "    \"Type\": \"The species of fish.\",\n",
      "    \"Weight\": \"Weight of fish in grams.\",\n",
      "    \"Standard_Length\": \"Standard length of fish in cm.\",\n",
      "    \"Fork_Length\": \"Fork length of fish in cm.\",\n",
      "    \"Total_Length\": \"Total length of fish in cm.\",\n",
      "    \"Height\": \"Body dept (height) of fish in cm.\",\n",
      "    \"Width\": \"Body Thickness (width) of fish in cm.\"\n",
      "}\n"
     ]
    }
   ],
   "source": [
    "df_variables_description = get_variable_description()\n",
    "print(json.dumps(df_variables_description, indent=4))"
   ]
  },
  {
   "cell_type": "code",
   "execution_count": 51,
   "metadata": {},
   "outputs": [
    {
     "name": "stdout",
     "output_type": "stream",
     "text": [
      "Is there duplicate values? False\n"
     ]
    }
   ],
   "source": [
    "df_is_there_duplicates = check_duplicates(df)\n",
    "print(f\"Is there duplicate values? {df_is_there_duplicates}\")"
   ]
  },
  {
   "cell_type": "code",
   "execution_count": 17,
   "metadata": {},
   "outputs": [
    {
     "name": "stdout",
     "output_type": "stream",
     "text": [
      "Is there any NaN values in the dataset? False\n"
     ]
    }
   ],
   "source": [
    "df_is_there_missing_value = check_missing_values(df)"
   ]
  },
  {
   "cell_type": "code",
   "execution_count": 52,
   "metadata": {},
   "outputs": [
    {
     "name": "stdout",
     "output_type": "stream",
     "text": [
      "number of rows: 159 \n",
      "number of columns: 7\n"
     ]
    }
   ],
   "source": [
    "df_dimension = get_dimension(df)\n",
    "print(f\"number of rows: {df_dimension[0]} \\nnumber of columns: {df_dimension[1]}\")"
   ]
  },
  {
   "cell_type": "code",
   "execution_count": 53,
   "metadata": {},
   "outputs": [
    {
     "data": {
      "text/plain": [
       "Type                object\n",
       "Weight             float64\n",
       "Standard_Length    float64\n",
       "Fork_Length        float64\n",
       "Total_Length       float64\n",
       "Height             float64\n",
       "Width              float64\n",
       "dtype: object"
      ]
     },
     "execution_count": 53,
     "metadata": {},
     "output_type": "execute_result"
    }
   ],
   "source": [
    "df_data_types = get_data_types(df)\n",
    "df_data_types"
   ]
  },
  {
   "cell_type": "code",
   "execution_count": 54,
   "metadata": {},
   "outputs": [
    {
     "name": "stdout",
     "output_type": "stream",
     "text": [
      "<class 'pandas.core.frame.DataFrame'>\n",
      "RangeIndex: 159 entries, 0 to 158\n",
      "Data columns (total 7 columns):\n",
      " #   Column           Non-Null Count  Dtype  \n",
      "---  ------           --------------  -----  \n",
      " 0   Type             159 non-null    object \n",
      " 1   Weight           159 non-null    float64\n",
      " 2   Standard_Length  159 non-null    float64\n",
      " 3   Fork_Length      159 non-null    float64\n",
      " 4   Total_Length     159 non-null    float64\n",
      " 5   Height           159 non-null    float64\n",
      " 6   Width            159 non-null    float64\n",
      "dtypes: float64(6), object(1)\n",
      "memory usage: 8.8+ KB\n"
     ]
    }
   ],
   "source": [
    "df_information = get_data_information(df)\n",
    "df_information"
   ]
  },
  {
   "cell_type": "code",
   "execution_count": 55,
   "metadata": {},
   "outputs": [
    {
     "name": "stdout",
     "output_type": "stream",
     "text": [
      "        Weight  Standard_Length  Fork_Length  Total_Length  Height   Width\n",
      "count   159.00           159.00       159.00        159.00  159.00  159.00\n",
      "mean    398.33            26.25        28.42         31.23    8.97    4.42\n",
      "std     357.98            10.00        10.72         11.61    4.29    1.69\n",
      "min       0.00             7.50         8.40          8.80    1.73    1.05\n",
      "25%     120.00            19.05        21.00         23.15    5.94    3.39\n",
      "50%     273.00            25.20        27.30         29.40    7.79    4.25\n",
      "75%     650.00            32.70        35.50         39.65   12.37    5.58\n",
      "max    1650.00            59.00        63.40         68.00   18.96    8.14\n"
     ]
    }
   ],
   "source": [
    "df_descriptive_statistics = get_descriptive_statistics(df)\n",
    "print(df_descriptive_statistics)"
   ]
  },
  {
   "cell_type": "code",
   "execution_count": 56,
   "metadata": {},
   "outputs": [
    {
     "data": {
      "image/png": "[encoded data removed]",
      "text/plain": [
       "<Figure size 432x288 with 6 Axes>"
      ]
     },
     "metadata": {
      "needs_background": "light"
     },
     "output_type": "display_data"
    }
   ],
   "source": [
    "# Visualization\n",
    "# Univariate Plots\n",
    "show_histogram(df)"
   ]
  },
  {
   "cell_type": "code",
   "execution_count": 57,
   "metadata": {},
   "outputs": [
    {
     "data": {
      "image/png": "[encoded data removed]",
      "text/plain": [
       "<Figure size 432x288 with 9 Axes>"
      ]
     },
     "metadata": {
      "needs_background": "light"
     },
     "output_type": "display_data"
    }
   ],
   "source": [
    "show_density_plots(df)"
   ]
  },
  {
   "cell_type": "code",
   "execution_count": 58,
   "metadata": {},
   "outputs": [
    {
     "data": {
      "image/png": "[encoded data removed]",
      "text/plain": [
       "<Figure size 432x288 with 9 Axes>"
      ]
     },
     "metadata": {
      "needs_background": "light"
     },
     "output_type": "display_data"
    }
   ],
   "source": [
    "show_whisker_plots(df)"
   ]
  },
  {
   "cell_type": "code",
   "execution_count": 59,
   "metadata": {},
   "outputs": [],
   "source": [
    "# Multivariate Plots\n",
    "df_stash_columns = [\"Weight\", \"Standard_Length\", \"Fork_Length\", \"Total_Length\", \"Height\", \"Width\"]"
   ]
  },
  {
   "cell_type": "code",
   "execution_count": 60,
   "metadata": {},
   "outputs": [
    {
     "data": {
      "text/html": [
       "<div>\n",
       "<style scoped>\n",
       "    .dataframe tbody tr th:only-of-type {\n",
       "        vertical-align: middle;\n",
       "    }\n",
       "\n",
       "    .dataframe tbody tr th {\n",
       "        vertical-align: top;\n",
       "    }\n",
       "\n",
       "    .dataframe thead th {\n",
       "        text-align: right;\n",
       "    }\n",
       "</style>\n",
       "<table border=\"1\" class=\"dataframe\">\n",
       "  <thead>\n",
       "    <tr style=\"text-align: right;\">\n",
       "      <th></th>\n",
       "      <th>Weight</th>\n",
       "      <th>Standard_Length</th>\n",
       "      <th>Fork_Length</th>\n",
       "      <th>Total_Length</th>\n",
       "      <th>Height</th>\n",
       "      <th>Width</th>\n",
       "    </tr>\n",
       "  </thead>\n",
       "  <tbody>\n",
       "    <tr>\n",
       "      <th>Weight</th>\n",
       "      <td>1.00</td>\n",
       "      <td>0.92</td>\n",
       "      <td>0.92</td>\n",
       "      <td>0.92</td>\n",
       "      <td>0.72</td>\n",
       "      <td>0.89</td>\n",
       "    </tr>\n",
       "    <tr>\n",
       "      <th>Standard_Length</th>\n",
       "      <td>0.92</td>\n",
       "      <td>1.00</td>\n",
       "      <td>1.00</td>\n",
       "      <td>0.99</td>\n",
       "      <td>0.63</td>\n",
       "      <td>0.87</td>\n",
       "    </tr>\n",
       "    <tr>\n",
       "      <th>Fork_Length</th>\n",
       "      <td>0.92</td>\n",
       "      <td>1.00</td>\n",
       "      <td>1.00</td>\n",
       "      <td>0.99</td>\n",
       "      <td>0.64</td>\n",
       "      <td>0.87</td>\n",
       "    </tr>\n",
       "    <tr>\n",
       "      <th>Total_Length</th>\n",
       "      <td>0.92</td>\n",
       "      <td>0.99</td>\n",
       "      <td>0.99</td>\n",
       "      <td>1.00</td>\n",
       "      <td>0.70</td>\n",
       "      <td>0.88</td>\n",
       "    </tr>\n",
       "    <tr>\n",
       "      <th>Height</th>\n",
       "      <td>0.72</td>\n",
       "      <td>0.63</td>\n",
       "      <td>0.64</td>\n",
       "      <td>0.70</td>\n",
       "      <td>1.00</td>\n",
       "      <td>0.79</td>\n",
       "    </tr>\n",
       "    <tr>\n",
       "      <th>Width</th>\n",
       "      <td>0.89</td>\n",
       "      <td>0.87</td>\n",
       "      <td>0.87</td>\n",
       "      <td>0.88</td>\n",
       "      <td>0.79</td>\n",
       "      <td>1.00</td>\n",
       "    </tr>\n",
       "  </tbody>\n",
       "</table>\n",
       "</div>"
      ],
      "text/plain": [
       "                 Weight  Standard_Length  Fork_Length  Total_Length  Height  Width\n",
       "Weight             1.00             0.92         0.92          0.92    0.72   0.89\n",
       "Standard_Length    0.92             1.00         1.00          0.99    0.63   0.87\n",
       "Fork_Length        0.92             1.00         1.00          0.99    0.64   0.87\n",
       "Total_Length       0.92             0.99         0.99          1.00    0.70   0.88\n",
       "Height             0.72             0.63         0.64          0.70    1.00   0.79\n",
       "Width              0.89             0.87         0.87          0.88    0.79   1.00"
      ]
     },
     "execution_count": 60,
     "metadata": {},
     "output_type": "execute_result"
    }
   ],
   "source": [
    "df_correlation = get_correlation(df)\n",
    "df_correlation"
   ]
  },
  {
   "cell_type": "code",
   "execution_count": 61,
   "metadata": {},
   "outputs": [
    {
     "data": {
      "image/png": "[encoded data removed]",
      "text/plain": [
       "<Figure size 432x288 with 2 Axes>"
      ]
     },
     "metadata": {
      "needs_background": "light"
     },
     "output_type": "display_data"
    }
   ],
   "source": [
    "show_correlation_plot(df_correlation, df_stash_columns)"
   ]
  },
  {
   "cell_type": "code",
   "execution_count": 62,
   "metadata": {},
   "outputs": [],
   "source": [
    "df_skew = get_skew(df)"
   ]
  },
  {
   "cell_type": "code",
   "execution_count": 63,
   "metadata": {},
   "outputs": [
    {
     "data": {
      "text/plain": [
       "Weight             1.10e+00\n",
       "Standard_Length    5.88e-01\n",
       "Fork_Length        5.40e-01\n",
       "Total_Length       3.92e-01\n",
       "Height             3.97e-01\n",
       "Width              4.97e-03\n",
       "dtype: float64"
      ]
     },
     "execution_count": 63,
     "metadata": {},
     "output_type": "execute_result"
    }
   ],
   "source": [
    "df_skew"
   ]
  },
  {
   "cell_type": "code",
   "execution_count": 64,
   "metadata": {},
   "outputs": [
    {
     "data": {
      "text/plain": [
       "Weight             0.88\n",
       "Standard_Length    0.44\n",
       "Fork_Length        0.40\n",
       "Total_Length       0.08\n",
       "Height            -0.61\n",
       "Width             -0.53\n",
       "dtype: float64"
      ]
     },
     "execution_count": 64,
     "metadata": {},
     "output_type": "execute_result"
    }
   ],
   "source": [
    "df_kurtosis = get_kurtosis(df)\n",
    "df_kurtosis"
   ]
  },
  {
   "cell_type": "code",
   "execution_count": 65,
   "metadata": {},
   "outputs": [
    {
     "data": {
      "image/png": "[encoded data removed]",
      "text/plain": [
       "<Figure size 432x288 with 36 Axes>"
      ]
     },
     "metadata": {
      "needs_background": "light"
     },
     "output_type": "display_data"
    }
   ],
   "source": [
    "show_scatter_plot(df)"
   ]
  },
  {
   "cell_type": "code",
   "execution_count": 66,
   "metadata": {},
   "outputs": [
    {
     "data": {
      "image/png": "[encoded data removed]",
      "text/plain": [
       "<Figure size 432x288 with 1 Axes>"
      ]
     },
     "metadata": {
      "needs_background": "light"
     },
     "output_type": "display_data"
    }
   ],
   "source": [
    "# Categorical Variables \n",
    "fish_type = df[\"Type\"].value_counts()\n",
    "show_bar_plot(fish_type, \"Counts of Species\")"
   ]
  },
  {
   "cell_type": "code",
   "execution_count": 67,
   "metadata": {},
   "outputs": [
    {
     "data": {
      "text/html": [
       "<div>\n",
       "<style scoped>\n",
       "    .dataframe tbody tr th:only-of-type {\n",
       "        vertical-align: middle;\n",
       "    }\n",
       "\n",
       "    .dataframe tbody tr th {\n",
       "        vertical-align: top;\n",
       "    }\n",
       "\n",
       "    .dataframe thead th {\n",
       "        text-align: right;\n",
       "    }\n",
       "</style>\n",
       "<table border=\"1\" class=\"dataframe\">\n",
       "  <thead>\n",
       "    <tr style=\"text-align: right;\">\n",
       "      <th></th>\n",
       "      <th>Type</th>\n",
       "      <th>Weight</th>\n",
       "      <th>Standard_Length</th>\n",
       "      <th>Fork_Length</th>\n",
       "      <th>Total_Length</th>\n",
       "      <th>Height</th>\n",
       "      <th>Width</th>\n",
       "    </tr>\n",
       "  </thead>\n",
       "  <tbody>\n",
       "    <tr>\n",
       "      <th>142</th>\n",
       "      <td>Pike</td>\n",
       "      <td>1600.0</td>\n",
       "      <td>56.0</td>\n",
       "      <td>60.0</td>\n",
       "      <td>64.0</td>\n",
       "      <td>9.60</td>\n",
       "      <td>6.14</td>\n",
       "    </tr>\n",
       "    <tr>\n",
       "      <th>143</th>\n",
       "      <td>Pike</td>\n",
       "      <td>1550.0</td>\n",
       "      <td>56.0</td>\n",
       "      <td>60.0</td>\n",
       "      <td>64.0</td>\n",
       "      <td>9.60</td>\n",
       "      <td>6.14</td>\n",
       "    </tr>\n",
       "    <tr>\n",
       "      <th>144</th>\n",
       "      <td>Pike</td>\n",
       "      <td>1650.0</td>\n",
       "      <td>59.0</td>\n",
       "      <td>63.4</td>\n",
       "      <td>68.0</td>\n",
       "      <td>10.81</td>\n",
       "      <td>7.48</td>\n",
       "    </tr>\n",
       "  </tbody>\n",
       "</table>\n",
       "</div>"
      ],
      "text/plain": [
       "     Type  Weight  Standard_Length  Fork_Length  Total_Length  Height  Width\n",
       "142  Pike  1600.0             56.0         60.0          64.0    9.60   6.14\n",
       "143  Pike  1550.0             56.0         60.0          64.0    9.60   6.14\n",
       "144  Pike  1650.0             59.0         63.4          68.0   10.81   7.48"
      ]
     },
     "execution_count": 67,
     "metadata": {},
     "output_type": "execute_result"
    }
   ],
   "source": [
    "# Detect Outliers\n",
    "df_outliers = df.loc[get_outliers(df, df_stash_columns)]\n",
    "df_outliers"
   ]
  },
  {
   "cell_type": "code",
   "execution_count": 68,
   "metadata": {},
   "outputs": [],
   "source": [
    "new_df = drop_items(df, [142, 143, 144])"
   ]
  },
  {
   "cell_type": "code",
   "execution_count": 69,
   "metadata": {},
   "outputs": [],
   "source": [
    "new_df_dimension = get_dimension(new_df)"
   ]
  },
  {
   "cell_type": "code",
   "execution_count": 70,
   "metadata": {},
   "outputs": [
    {
     "data": {
      "text/plain": [
       "(156, 7)"
      ]
     },
     "execution_count": 70,
     "metadata": {},
     "output_type": "execute_result"
    }
   ],
   "source": [
    "new_df_dimension"
   ]
  },
  {
   "cell_type": "code",
   "execution_count": 71,
   "metadata": {},
   "outputs": [
    {
     "name": "stdout",
     "output_type": "stream",
     "text": [
      "        Weight  Standard_Length  Fork_Length  Total_Length  Height   Width\n",
      "count   156.00           156.00       156.00        156.00  156.00  156.00\n",
      "mean    375.22            25.66        27.79         30.57    8.95    4.38\n",
      "std     319.55             9.12         9.79         10.70    4.32    1.67\n",
      "min       0.00             7.50         8.40          8.80    1.73    1.05\n",
      "25%     120.00            19.00        21.00         23.03    5.93    3.37\n",
      "50%     271.00            25.00        26.75         29.25    7.65    4.24\n",
      "75%     612.50            32.12        35.00         39.42   12.38    5.42\n",
      "max    1250.00            52.00        56.00         59.70   18.96    8.14\n"
     ]
    }
   ],
   "source": [
    "print(get_descriptive_statistics(new_df))"
   ]
  },
  {
   "cell_type": "code",
   "execution_count": 72,
   "metadata": {},
   "outputs": [],
   "source": [
    "# Modeling\n",
    "m_vars = get_training_variables(df, \"Weight\")"
   ]
  },
  {
   "cell_type": "code",
   "execution_count": 73,
   "metadata": {},
   "outputs": [
    {
     "data": {
      "text/plain": [
       "{'y': 0      242.0\n",
       " 1      290.0\n",
       " 2      340.0\n",
       " 3      363.0\n",
       " 4      430.0\n",
       "        ...  \n",
       " 154     12.2\n",
       " 155     13.4\n",
       " 156     12.2\n",
       " 157     19.7\n",
       " 158     19.9\n",
       " Name: Weight, Length: 159, dtype: float64,\n",
       " 'X':      Standard_Length  Fork_Length  Total_Length  Height  Width\n",
       " 0               23.2         25.4          30.0   11.52   4.02\n",
       " 1               24.0         26.3          31.2   12.48   4.31\n",
       " 2               23.9         26.5          31.1   12.38   4.70\n",
       " 3               26.3         29.0          33.5   12.73   4.46\n",
       " 4               26.5         29.0          34.0   12.44   5.13\n",
       " ..               ...          ...           ...     ...    ...\n",
       " 154             11.5         12.2          13.4    2.09   1.39\n",
       " 155             11.7         12.4          13.5    2.43   1.27\n",
       " 156             12.1         13.0          13.8    2.28   1.26\n",
       " 157             13.2         14.3          15.2    2.87   2.07\n",
       " 158             13.8         15.0          16.2    2.93   1.88\n",
       " \n",
       " [159 rows x 5 columns]}"
      ]
     },
     "execution_count": 73,
     "metadata": {},
     "output_type": "execute_result"
    }
   ],
   "source": [
    "m_vars"
   ]
  },
  {
   "cell_type": "code",
   "execution_count": 74,
   "metadata": {},
   "outputs": [],
   "source": [
    "y = m_vars[\"y\"]\n",
    "X = m_vars[\"X\"]\n",
    "X_train, X_test, y_train, y_test = train_test_split(X, y, test_size=0.2, random_state=1)"
   ]
  },
  {
   "cell_type": "code",
   "execution_count": 75,
   "metadata": {},
   "outputs": [
    {
     "data": {
      "text/plain": [
       "LinearRegression()"
      ]
     },
     "execution_count": 75,
     "metadata": {},
     "output_type": "execute_result"
    }
   ],
   "source": [
    "model_fit = train_model(X_train, y_train)\n",
    "model_fit"
   ]
  },
  {
   "cell_type": "code",
   "execution_count": 78,
   "metadata": {},
   "outputs": [
    {
     "name": "stdout",
     "output_type": "stream",
     "text": [
      "Model intercept:  -484.85364947368276\n",
      "Model coefficients:  [ 56.90591757  -4.63465655 -28.54481968  24.25584123  43.68347751]\n"
     ]
    }
   ],
   "source": [
    "intercept = model_fit.intercept_\n",
    "coefficient = model_fit.coef_\n",
    "print('Model intercept: ', intercept)\n",
    "print('Model coefficients: ', coefficient)"
   ]
  },
  {
   "cell_type": "code",
   "execution_count": 80,
   "metadata": {},
   "outputs": [
    {
     "data": {
      "text/plain": [
       "' \\n    Multiple Linear Regression Formula: \\n    y = b0 + b1X1 + b2X2 + b3X3 + ... + bnXn\\n    y: Dependent variable\\n    b0: Constnat\\n    b1-bn: Coefficients\\n    X1-Xn: Independent Variables\\n\\n'"
      ]
     },
     "execution_count": 80,
     "metadata": {},
     "output_type": "execute_result"
    }
   ],
   "source": [
    "\"\"\" \n",
    "    Multiple Linear Regression Formula: \n",
    "    y = b0 + b1X1 + b2X2 + b3X3 + ... + bnXn\n",
    "    y: Dependent variable\n",
    "    b0: Constnat\n",
    "    b1-bn: Coefficients\n",
    "    X1-Xn: Independent Variables\n",
    "\n",
    "\"\"\""
   ]
  },
  {
   "cell_type": "code",
   "execution_count": 82,
   "metadata": {},
   "outputs": [
    {
     "name": "stdout",
     "output_type": "stream",
     "text": [
      "y = -484.85 + 56.91*X1 -4.63*X2 -28.54*X3 + 24.26*X4 + 43.68*X5\n"
     ]
    }
   ],
   "source": [
    "show_regression_formula(intercept, coefficient)"
   ]
  },
  {
   "cell_type": "code",
   "execution_count": 83,
   "metadata": {},
   "outputs": [
    {
     "name": "stdout",
     "output_type": "stream",
     "text": [
      "Modeling Accuracy results (r2_score): 88.62%\n",
      "Prediction Accuracy results (r2_score): 87.04%\n"
     ]
    }
   ],
   "source": [
    "# Prediction\n",
    "y_head = predict(model_fit, X_train)\n",
    "y_pred = predict(model_fit, X_test)\n",
    "\n",
    "show_summary(X_train, y_train, model_fit, \"Modeling Accuracy results (r2_score):\")\n",
    "show_summary(X_test, y_test, model_fit, \"Prediction Accuracy results (r2_score):\")"
   ]
  },
  {
   "cell_type": "code",
   "execution_count": 84,
   "metadata": {},
   "outputs": [
    {
     "data": {
      "image/png": "[encoded data removed]",
      "text/plain": [
       "<Figure size 432x288 with 1 Axes>"
      ]
     },
     "metadata": {
      "needs_background": "light"
     },
     "output_type": "display_data"
    }
   ],
   "source": [
    "pyplot.scatter(X_test[\"Total_Length\"], y_test, color=\"green\", alpha=0.4)\n",
    "pyplot.scatter(X_test[\"Total_Length\"], y_pred, color=\"blue\", alpha=0.4)\n",
    "pyplot.xlabel(\"Total Length in cm\")\n",
    "pyplot.ylabel(\"Weight of the fish\")\n",
    "pyplot.title(\"Multi Linear Regression for Fish Weight Estimation\")\n",
    "show_plot()"
   ]
  },
  {
   "cell_type": "code",
   "execution_count": 85,
   "metadata": {},
   "outputs": [
    {
     "data": {
      "image/png": "[encoded data removed]",
      "text/plain": [
       "<Figure size 432x288 with 1 Axes>"
      ]
     },
     "metadata": {
      "needs_background": "light"
     },
     "output_type": "display_data"
    }
   ],
   "source": [
    "pyplot.scatter(X_test[\"Height\"], y_test, color=\"orange\", alpha=0.5)\n",
    "pyplot.scatter(X_test[\"Height\"], y_pred, color=\"blue\", alpha=0.5)\n",
    "pyplot.xlabel(\"Height in cm\")\n",
    "pyplot.ylabel(\"Weight of the fish\")\n",
    "pyplot.title(\"Multi Linear Regression for Fish Weight Estimation\")\n",
    "show_plot()"
   ]
  },
  {
   "cell_type": "code",
   "execution_count": 86,
   "metadata": {},
   "outputs": [
    {
     "data": {
      "image/png": "[encoded data removed]",
      "text/plain": [
       "<Figure size 432x288 with 1 Axes>"
      ]
     },
     "metadata": {
      "needs_background": "light"
     },
     "output_type": "display_data"
    }
   ],
   "source": [
    "pyplot.scatter(X_test['Width'], y_test, color='gray', alpha=0.5)\n",
    "pyplot.scatter(X_test['Width'], y_pred, color='red', alpha=0.5)\n",
    "pyplot.xlabel('Width in cm')\n",
    "pyplot.ylabel('Weight of the fish')\n",
    "pyplot.title(\"Multi Linear Regression for Fish Weight Estimation\")\n",
    "show_plot()"
   ]
  },
  {
   "cell_type": "code",
   "execution_count": null,
   "metadata": {},
   "outputs": [],
   "source": []
  }
 ],
 "metadata": {
  "kernelspec": {
   "display_name": "Python 3",
   "language": "python",
   "name": "python3"
  },
  "language_info": {
   "codemirror_mode": {
    "name": "ipython",
    "version": 3
   },
   "file_extension": ".py",
   "mimetype": "text/x-python",
   "name": "python",
   "nbconvert_exporter": "python",
   "pygments_lexer": "ipython3",
   "version": "3.8.6"
  }
 },
 "nbformat": 4,
 "nbformat_minor": 4
}
